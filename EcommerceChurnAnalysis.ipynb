{
 "cells": [
  {
   "cell_type": "markdown",
   "id": "2117233c-716a-457e-adc6-b07ea6dbd8b7",
   "metadata": {},
   "source": [
    "# Load Important Libraries"
   ]
  },
  {
   "cell_type": "code",
   "execution_count": 1,
   "id": "59ca95c6-e9e7-4643-83fa-9163a8791484",
   "metadata": {},
   "outputs": [],
   "source": [
    "import numpy as np\n",
    "import pandas as pd\n",
    "import matplotlib.pyplot as plt\n",
    "import seaborn as sns"
   ]
  },
  {
   "cell_type": "markdown",
   "id": "8a6dcb54-0343-47f6-9a29-b10ef5b5339a",
   "metadata": {},
   "source": [
    "# Read The Dataset"
   ]
  },
  {
   "cell_type": "code",
   "execution_count": 2,
   "id": "1a8a5b23-2cd0-4484-b28a-3d706252f604",
   "metadata": {},
   "outputs": [],
   "source": [
    "df=pd.read_excel(\"E Commerce Dataset - Copy.xlsx\")"
   ]
  },
  {
   "cell_type": "code",
   "execution_count": 3,
   "id": "bcb07e0a-478b-4ca6-8d57-8a6f4daa4e80",
   "metadata": {},
   "outputs": [
    {
     "data": {
      "text/html": [
       "<div>\n",
       "<style scoped>\n",
       "    .dataframe tbody tr th:only-of-type {\n",
       "        vertical-align: middle;\n",
       "    }\n",
       "\n",
       "    .dataframe tbody tr th {\n",
       "        vertical-align: top;\n",
       "    }\n",
       "\n",
       "    .dataframe thead th {\n",
       "        text-align: right;\n",
       "    }\n",
       "</style>\n",
       "<table border=\"1\" class=\"dataframe\">\n",
       "  <thead>\n",
       "    <tr style=\"text-align: right;\">\n",
       "      <th></th>\n",
       "      <th>CustomerID</th>\n",
       "      <th>Churn</th>\n",
       "      <th>Tenure</th>\n",
       "      <th>PreferredLoginDevice</th>\n",
       "      <th>CityTier</th>\n",
       "      <th>WarehouseToHome</th>\n",
       "      <th>PreferredPaymentMode</th>\n",
       "      <th>Gender</th>\n",
       "      <th>HourSpendOnApp</th>\n",
       "      <th>NumberOfDeviceRegistered</th>\n",
       "      <th>PreferedOrderCat</th>\n",
       "      <th>SatisfactionScore</th>\n",
       "      <th>MaritalStatus</th>\n",
       "      <th>NumberOfAddress</th>\n",
       "      <th>Complain</th>\n",
       "      <th>OrderAmountHikeFromlastYear</th>\n",
       "      <th>CouponUsed</th>\n",
       "      <th>OrderCount</th>\n",
       "      <th>DaySinceLastOrder</th>\n",
       "      <th>CashbackAmount</th>\n",
       "    </tr>\n",
       "  </thead>\n",
       "  <tbody>\n",
       "    <tr>\n",
       "      <th>0</th>\n",
       "      <td>50001</td>\n",
       "      <td>1</td>\n",
       "      <td>4.0</td>\n",
       "      <td>Mobile Phone</td>\n",
       "      <td>3</td>\n",
       "      <td>6.0</td>\n",
       "      <td>Debit Card</td>\n",
       "      <td>Female</td>\n",
       "      <td>3.0</td>\n",
       "      <td>3</td>\n",
       "      <td>Laptop &amp; Accessory</td>\n",
       "      <td>2</td>\n",
       "      <td>Single</td>\n",
       "      <td>9</td>\n",
       "      <td>1</td>\n",
       "      <td>11.0</td>\n",
       "      <td>1.0</td>\n",
       "      <td>1.0</td>\n",
       "      <td>5.0</td>\n",
       "      <td>159.93</td>\n",
       "    </tr>\n",
       "    <tr>\n",
       "      <th>1</th>\n",
       "      <td>50002</td>\n",
       "      <td>1</td>\n",
       "      <td>NaN</td>\n",
       "      <td>Phone</td>\n",
       "      <td>1</td>\n",
       "      <td>8.0</td>\n",
       "      <td>UPI</td>\n",
       "      <td>Male</td>\n",
       "      <td>3.0</td>\n",
       "      <td>4</td>\n",
       "      <td>Mobile</td>\n",
       "      <td>3</td>\n",
       "      <td>Single</td>\n",
       "      <td>7</td>\n",
       "      <td>1</td>\n",
       "      <td>15.0</td>\n",
       "      <td>0.0</td>\n",
       "      <td>1.0</td>\n",
       "      <td>0.0</td>\n",
       "      <td>120.90</td>\n",
       "    </tr>\n",
       "    <tr>\n",
       "      <th>2</th>\n",
       "      <td>50003</td>\n",
       "      <td>1</td>\n",
       "      <td>NaN</td>\n",
       "      <td>Phone</td>\n",
       "      <td>1</td>\n",
       "      <td>30.0</td>\n",
       "      <td>Debit Card</td>\n",
       "      <td>Male</td>\n",
       "      <td>2.0</td>\n",
       "      <td>4</td>\n",
       "      <td>Mobile</td>\n",
       "      <td>3</td>\n",
       "      <td>Single</td>\n",
       "      <td>6</td>\n",
       "      <td>1</td>\n",
       "      <td>14.0</td>\n",
       "      <td>0.0</td>\n",
       "      <td>1.0</td>\n",
       "      <td>3.0</td>\n",
       "      <td>120.28</td>\n",
       "    </tr>\n",
       "    <tr>\n",
       "      <th>3</th>\n",
       "      <td>50004</td>\n",
       "      <td>1</td>\n",
       "      <td>0.0</td>\n",
       "      <td>Phone</td>\n",
       "      <td>3</td>\n",
       "      <td>15.0</td>\n",
       "      <td>Debit Card</td>\n",
       "      <td>Male</td>\n",
       "      <td>2.0</td>\n",
       "      <td>4</td>\n",
       "      <td>Laptop &amp; Accessory</td>\n",
       "      <td>5</td>\n",
       "      <td>Single</td>\n",
       "      <td>8</td>\n",
       "      <td>0</td>\n",
       "      <td>23.0</td>\n",
       "      <td>0.0</td>\n",
       "      <td>1.0</td>\n",
       "      <td>3.0</td>\n",
       "      <td>134.07</td>\n",
       "    </tr>\n",
       "    <tr>\n",
       "      <th>4</th>\n",
       "      <td>50005</td>\n",
       "      <td>1</td>\n",
       "      <td>0.0</td>\n",
       "      <td>Phone</td>\n",
       "      <td>1</td>\n",
       "      <td>12.0</td>\n",
       "      <td>CC</td>\n",
       "      <td>Male</td>\n",
       "      <td>NaN</td>\n",
       "      <td>3</td>\n",
       "      <td>Mobile</td>\n",
       "      <td>5</td>\n",
       "      <td>Single</td>\n",
       "      <td>3</td>\n",
       "      <td>0</td>\n",
       "      <td>11.0</td>\n",
       "      <td>1.0</td>\n",
       "      <td>1.0</td>\n",
       "      <td>3.0</td>\n",
       "      <td>129.60</td>\n",
       "    </tr>\n",
       "    <tr>\n",
       "      <th>...</th>\n",
       "      <td>...</td>\n",
       "      <td>...</td>\n",
       "      <td>...</td>\n",
       "      <td>...</td>\n",
       "      <td>...</td>\n",
       "      <td>...</td>\n",
       "      <td>...</td>\n",
       "      <td>...</td>\n",
       "      <td>...</td>\n",
       "      <td>...</td>\n",
       "      <td>...</td>\n",
       "      <td>...</td>\n",
       "      <td>...</td>\n",
       "      <td>...</td>\n",
       "      <td>...</td>\n",
       "      <td>...</td>\n",
       "      <td>...</td>\n",
       "      <td>...</td>\n",
       "      <td>...</td>\n",
       "      <td>...</td>\n",
       "    </tr>\n",
       "    <tr>\n",
       "      <th>5625</th>\n",
       "      <td>55626</td>\n",
       "      <td>0</td>\n",
       "      <td>10.0</td>\n",
       "      <td>Computer</td>\n",
       "      <td>1</td>\n",
       "      <td>30.0</td>\n",
       "      <td>Credit Card</td>\n",
       "      <td>Male</td>\n",
       "      <td>3.0</td>\n",
       "      <td>2</td>\n",
       "      <td>Laptop &amp; Accessory</td>\n",
       "      <td>1</td>\n",
       "      <td>Married</td>\n",
       "      <td>6</td>\n",
       "      <td>0</td>\n",
       "      <td>18.0</td>\n",
       "      <td>1.0</td>\n",
       "      <td>2.0</td>\n",
       "      <td>4.0</td>\n",
       "      <td>150.71</td>\n",
       "    </tr>\n",
       "    <tr>\n",
       "      <th>5626</th>\n",
       "      <td>55627</td>\n",
       "      <td>0</td>\n",
       "      <td>13.0</td>\n",
       "      <td>Mobile Phone</td>\n",
       "      <td>1</td>\n",
       "      <td>13.0</td>\n",
       "      <td>Credit Card</td>\n",
       "      <td>Male</td>\n",
       "      <td>3.0</td>\n",
       "      <td>5</td>\n",
       "      <td>Fashion</td>\n",
       "      <td>5</td>\n",
       "      <td>Married</td>\n",
       "      <td>6</td>\n",
       "      <td>0</td>\n",
       "      <td>16.0</td>\n",
       "      <td>1.0</td>\n",
       "      <td>2.0</td>\n",
       "      <td>NaN</td>\n",
       "      <td>224.91</td>\n",
       "    </tr>\n",
       "    <tr>\n",
       "      <th>5627</th>\n",
       "      <td>55628</td>\n",
       "      <td>0</td>\n",
       "      <td>1.0</td>\n",
       "      <td>Mobile Phone</td>\n",
       "      <td>1</td>\n",
       "      <td>11.0</td>\n",
       "      <td>Debit Card</td>\n",
       "      <td>Male</td>\n",
       "      <td>3.0</td>\n",
       "      <td>2</td>\n",
       "      <td>Laptop &amp; Accessory</td>\n",
       "      <td>4</td>\n",
       "      <td>Married</td>\n",
       "      <td>3</td>\n",
       "      <td>1</td>\n",
       "      <td>21.0</td>\n",
       "      <td>1.0</td>\n",
       "      <td>2.0</td>\n",
       "      <td>4.0</td>\n",
       "      <td>186.42</td>\n",
       "    </tr>\n",
       "    <tr>\n",
       "      <th>5628</th>\n",
       "      <td>55629</td>\n",
       "      <td>0</td>\n",
       "      <td>23.0</td>\n",
       "      <td>Computer</td>\n",
       "      <td>3</td>\n",
       "      <td>9.0</td>\n",
       "      <td>Credit Card</td>\n",
       "      <td>Male</td>\n",
       "      <td>4.0</td>\n",
       "      <td>5</td>\n",
       "      <td>Laptop &amp; Accessory</td>\n",
       "      <td>4</td>\n",
       "      <td>Married</td>\n",
       "      <td>4</td>\n",
       "      <td>0</td>\n",
       "      <td>15.0</td>\n",
       "      <td>2.0</td>\n",
       "      <td>2.0</td>\n",
       "      <td>9.0</td>\n",
       "      <td>178.90</td>\n",
       "    </tr>\n",
       "    <tr>\n",
       "      <th>5629</th>\n",
       "      <td>55630</td>\n",
       "      <td>0</td>\n",
       "      <td>8.0</td>\n",
       "      <td>Mobile Phone</td>\n",
       "      <td>1</td>\n",
       "      <td>15.0</td>\n",
       "      <td>Credit Card</td>\n",
       "      <td>Male</td>\n",
       "      <td>3.0</td>\n",
       "      <td>2</td>\n",
       "      <td>Laptop &amp; Accessory</td>\n",
       "      <td>3</td>\n",
       "      <td>Married</td>\n",
       "      <td>4</td>\n",
       "      <td>0</td>\n",
       "      <td>13.0</td>\n",
       "      <td>2.0</td>\n",
       "      <td>2.0</td>\n",
       "      <td>3.0</td>\n",
       "      <td>169.04</td>\n",
       "    </tr>\n",
       "  </tbody>\n",
       "</table>\n",
       "<p>5630 rows × 20 columns</p>\n",
       "</div>"
      ],
      "text/plain": [
       "      CustomerID  Churn  Tenure PreferredLoginDevice  CityTier  \\\n",
       "0          50001      1     4.0         Mobile Phone         3   \n",
       "1          50002      1     NaN                Phone         1   \n",
       "2          50003      1     NaN                Phone         1   \n",
       "3          50004      1     0.0                Phone         3   \n",
       "4          50005      1     0.0                Phone         1   \n",
       "...          ...    ...     ...                  ...       ...   \n",
       "5625       55626      0    10.0             Computer         1   \n",
       "5626       55627      0    13.0         Mobile Phone         1   \n",
       "5627       55628      0     1.0         Mobile Phone         1   \n",
       "5628       55629      0    23.0             Computer         3   \n",
       "5629       55630      0     8.0         Mobile Phone         1   \n",
       "\n",
       "      WarehouseToHome PreferredPaymentMode  Gender  HourSpendOnApp  \\\n",
       "0                 6.0           Debit Card  Female             3.0   \n",
       "1                 8.0                  UPI    Male             3.0   \n",
       "2                30.0           Debit Card    Male             2.0   \n",
       "3                15.0           Debit Card    Male             2.0   \n",
       "4                12.0                   CC    Male             NaN   \n",
       "...               ...                  ...     ...             ...   \n",
       "5625             30.0          Credit Card    Male             3.0   \n",
       "5626             13.0          Credit Card    Male             3.0   \n",
       "5627             11.0           Debit Card    Male             3.0   \n",
       "5628              9.0          Credit Card    Male             4.0   \n",
       "5629             15.0          Credit Card    Male             3.0   \n",
       "\n",
       "      NumberOfDeviceRegistered    PreferedOrderCat  SatisfactionScore  \\\n",
       "0                            3  Laptop & Accessory                  2   \n",
       "1                            4              Mobile                  3   \n",
       "2                            4              Mobile                  3   \n",
       "3                            4  Laptop & Accessory                  5   \n",
       "4                            3              Mobile                  5   \n",
       "...                        ...                 ...                ...   \n",
       "5625                         2  Laptop & Accessory                  1   \n",
       "5626                         5             Fashion                  5   \n",
       "5627                         2  Laptop & Accessory                  4   \n",
       "5628                         5  Laptop & Accessory                  4   \n",
       "5629                         2  Laptop & Accessory                  3   \n",
       "\n",
       "     MaritalStatus  NumberOfAddress  Complain  OrderAmountHikeFromlastYear  \\\n",
       "0           Single                9         1                         11.0   \n",
       "1           Single                7         1                         15.0   \n",
       "2           Single                6         1                         14.0   \n",
       "3           Single                8         0                         23.0   \n",
       "4           Single                3         0                         11.0   \n",
       "...            ...              ...       ...                          ...   \n",
       "5625       Married                6         0                         18.0   \n",
       "5626       Married                6         0                         16.0   \n",
       "5627       Married                3         1                         21.0   \n",
       "5628       Married                4         0                         15.0   \n",
       "5629       Married                4         0                         13.0   \n",
       "\n",
       "      CouponUsed  OrderCount  DaySinceLastOrder  CashbackAmount  \n",
       "0            1.0         1.0                5.0          159.93  \n",
       "1            0.0         1.0                0.0          120.90  \n",
       "2            0.0         1.0                3.0          120.28  \n",
       "3            0.0         1.0                3.0          134.07  \n",
       "4            1.0         1.0                3.0          129.60  \n",
       "...          ...         ...                ...             ...  \n",
       "5625         1.0         2.0                4.0          150.71  \n",
       "5626         1.0         2.0                NaN          224.91  \n",
       "5627         1.0         2.0                4.0          186.42  \n",
       "5628         2.0         2.0                9.0          178.90  \n",
       "5629         2.0         2.0                3.0          169.04  \n",
       "\n",
       "[5630 rows x 20 columns]"
      ]
     },
     "execution_count": 3,
     "metadata": {},
     "output_type": "execute_result"
    }
   ],
   "source": [
    "df"
   ]
  },
  {
   "cell_type": "code",
   "execution_count": 4,
   "id": "b317e9bc-9a69-47ad-b27c-1ba031314f71",
   "metadata": {},
   "outputs": [
    {
     "name": "stdout",
     "output_type": "stream",
     "text": [
      "<class 'pandas.core.frame.DataFrame'>\n",
      "RangeIndex: 5630 entries, 0 to 5629\n",
      "Data columns (total 20 columns):\n",
      " #   Column                       Non-Null Count  Dtype  \n",
      "---  ------                       --------------  -----  \n",
      " 0   CustomerID                   5630 non-null   int64  \n",
      " 1   Churn                        5630 non-null   int64  \n",
      " 2   Tenure                       5366 non-null   float64\n",
      " 3   PreferredLoginDevice         5630 non-null   object \n",
      " 4   CityTier                     5630 non-null   int64  \n",
      " 5   WarehouseToHome              5379 non-null   float64\n",
      " 6   PreferredPaymentMode         5630 non-null   object \n",
      " 7   Gender                       5630 non-null   object \n",
      " 8   HourSpendOnApp               5375 non-null   float64\n",
      " 9   NumberOfDeviceRegistered     5630 non-null   int64  \n",
      " 10  PreferedOrderCat             5630 non-null   object \n",
      " 11  SatisfactionScore            5630 non-null   int64  \n",
      " 12  MaritalStatus                5630 non-null   object \n",
      " 13  NumberOfAddress              5630 non-null   int64  \n",
      " 14  Complain                     5630 non-null   int64  \n",
      " 15  OrderAmountHikeFromlastYear  5365 non-null   float64\n",
      " 16  CouponUsed                   5374 non-null   float64\n",
      " 17  OrderCount                   5372 non-null   float64\n",
      " 18  DaySinceLastOrder            5323 non-null   float64\n",
      " 19  CashbackAmount               5630 non-null   float64\n",
      "dtypes: float64(8), int64(7), object(5)\n",
      "memory usage: 879.8+ KB\n"
     ]
    }
   ],
   "source": [
    "df.info()"
   ]
  },
  {
   "cell_type": "markdown",
   "id": "97307273-cd5c-4295-af73-18f60144bdf1",
   "metadata": {},
   "source": [
    "# Null Values in Dataset"
   ]
  },
  {
   "cell_type": "code",
   "execution_count": 5,
   "id": "14758169-bc87-42f1-b2ba-c763fe4ff985",
   "metadata": {},
   "outputs": [
    {
     "data": {
      "text/plain": [
       "CustomerID                       0\n",
       "Churn                            0\n",
       "Tenure                         264\n",
       "PreferredLoginDevice             0\n",
       "CityTier                         0\n",
       "WarehouseToHome                251\n",
       "PreferredPaymentMode             0\n",
       "Gender                           0\n",
       "HourSpendOnApp                 255\n",
       "NumberOfDeviceRegistered         0\n",
       "PreferedOrderCat                 0\n",
       "SatisfactionScore                0\n",
       "MaritalStatus                    0\n",
       "NumberOfAddress                  0\n",
       "Complain                         0\n",
       "OrderAmountHikeFromlastYear    265\n",
       "CouponUsed                     256\n",
       "OrderCount                     258\n",
       "DaySinceLastOrder              307\n",
       "CashbackAmount                   0\n",
       "dtype: int64"
      ]
     },
     "execution_count": 5,
     "metadata": {},
     "output_type": "execute_result"
    }
   ],
   "source": [
    "df.isnull().sum()"
   ]
  },
  {
   "cell_type": "code",
   "execution_count": 6,
   "id": "ae65f2c5-f1fd-45ad-b748-cd25df33754b",
   "metadata": {},
   "outputs": [
    {
     "data": {
      "text/html": [
       "<div>\n",
       "<style scoped>\n",
       "    .dataframe tbody tr th:only-of-type {\n",
       "        vertical-align: middle;\n",
       "    }\n",
       "\n",
       "    .dataframe tbody tr th {\n",
       "        vertical-align: top;\n",
       "    }\n",
       "\n",
       "    .dataframe thead th {\n",
       "        text-align: right;\n",
       "    }\n",
       "</style>\n",
       "<table border=\"1\" class=\"dataframe\">\n",
       "  <thead>\n",
       "    <tr style=\"text-align: right;\">\n",
       "      <th></th>\n",
       "      <th>CustomerID</th>\n",
       "      <th>Churn</th>\n",
       "      <th>Tenure</th>\n",
       "      <th>CityTier</th>\n",
       "      <th>WarehouseToHome</th>\n",
       "      <th>HourSpendOnApp</th>\n",
       "      <th>NumberOfDeviceRegistered</th>\n",
       "      <th>SatisfactionScore</th>\n",
       "      <th>NumberOfAddress</th>\n",
       "      <th>Complain</th>\n",
       "      <th>OrderAmountHikeFromlastYear</th>\n",
       "      <th>CouponUsed</th>\n",
       "      <th>OrderCount</th>\n",
       "      <th>DaySinceLastOrder</th>\n",
       "      <th>CashbackAmount</th>\n",
       "    </tr>\n",
       "  </thead>\n",
       "  <tbody>\n",
       "    <tr>\n",
       "      <th>count</th>\n",
       "      <td>5630.000000</td>\n",
       "      <td>5630.000000</td>\n",
       "      <td>5366.000000</td>\n",
       "      <td>5630.000000</td>\n",
       "      <td>5379.000000</td>\n",
       "      <td>5375.000000</td>\n",
       "      <td>5630.000000</td>\n",
       "      <td>5630.000000</td>\n",
       "      <td>5630.000000</td>\n",
       "      <td>5630.000000</td>\n",
       "      <td>5365.000000</td>\n",
       "      <td>5374.000000</td>\n",
       "      <td>5372.000000</td>\n",
       "      <td>5323.000000</td>\n",
       "      <td>5630.000000</td>\n",
       "    </tr>\n",
       "    <tr>\n",
       "      <th>mean</th>\n",
       "      <td>52815.500000</td>\n",
       "      <td>0.168384</td>\n",
       "      <td>10.189899</td>\n",
       "      <td>1.654707</td>\n",
       "      <td>15.639896</td>\n",
       "      <td>2.931535</td>\n",
       "      <td>3.688988</td>\n",
       "      <td>3.066785</td>\n",
       "      <td>4.214032</td>\n",
       "      <td>0.284902</td>\n",
       "      <td>15.707922</td>\n",
       "      <td>1.751023</td>\n",
       "      <td>3.008004</td>\n",
       "      <td>4.543491</td>\n",
       "      <td>177.223030</td>\n",
       "    </tr>\n",
       "    <tr>\n",
       "      <th>std</th>\n",
       "      <td>1625.385339</td>\n",
       "      <td>0.374240</td>\n",
       "      <td>8.557241</td>\n",
       "      <td>0.915389</td>\n",
       "      <td>8.531475</td>\n",
       "      <td>0.721926</td>\n",
       "      <td>1.023999</td>\n",
       "      <td>1.380194</td>\n",
       "      <td>2.583586</td>\n",
       "      <td>0.451408</td>\n",
       "      <td>3.675485</td>\n",
       "      <td>1.894621</td>\n",
       "      <td>2.939680</td>\n",
       "      <td>3.654433</td>\n",
       "      <td>49.207036</td>\n",
       "    </tr>\n",
       "    <tr>\n",
       "      <th>min</th>\n",
       "      <td>50001.000000</td>\n",
       "      <td>0.000000</td>\n",
       "      <td>0.000000</td>\n",
       "      <td>1.000000</td>\n",
       "      <td>5.000000</td>\n",
       "      <td>0.000000</td>\n",
       "      <td>1.000000</td>\n",
       "      <td>1.000000</td>\n",
       "      <td>1.000000</td>\n",
       "      <td>0.000000</td>\n",
       "      <td>11.000000</td>\n",
       "      <td>0.000000</td>\n",
       "      <td>1.000000</td>\n",
       "      <td>0.000000</td>\n",
       "      <td>0.000000</td>\n",
       "    </tr>\n",
       "    <tr>\n",
       "      <th>25%</th>\n",
       "      <td>51408.250000</td>\n",
       "      <td>0.000000</td>\n",
       "      <td>2.000000</td>\n",
       "      <td>1.000000</td>\n",
       "      <td>9.000000</td>\n",
       "      <td>2.000000</td>\n",
       "      <td>3.000000</td>\n",
       "      <td>2.000000</td>\n",
       "      <td>2.000000</td>\n",
       "      <td>0.000000</td>\n",
       "      <td>13.000000</td>\n",
       "      <td>1.000000</td>\n",
       "      <td>1.000000</td>\n",
       "      <td>2.000000</td>\n",
       "      <td>145.770000</td>\n",
       "    </tr>\n",
       "    <tr>\n",
       "      <th>50%</th>\n",
       "      <td>52815.500000</td>\n",
       "      <td>0.000000</td>\n",
       "      <td>9.000000</td>\n",
       "      <td>1.000000</td>\n",
       "      <td>14.000000</td>\n",
       "      <td>3.000000</td>\n",
       "      <td>4.000000</td>\n",
       "      <td>3.000000</td>\n",
       "      <td>3.000000</td>\n",
       "      <td>0.000000</td>\n",
       "      <td>15.000000</td>\n",
       "      <td>1.000000</td>\n",
       "      <td>2.000000</td>\n",
       "      <td>3.000000</td>\n",
       "      <td>163.280000</td>\n",
       "    </tr>\n",
       "    <tr>\n",
       "      <th>75%</th>\n",
       "      <td>54222.750000</td>\n",
       "      <td>0.000000</td>\n",
       "      <td>16.000000</td>\n",
       "      <td>3.000000</td>\n",
       "      <td>20.000000</td>\n",
       "      <td>3.000000</td>\n",
       "      <td>4.000000</td>\n",
       "      <td>4.000000</td>\n",
       "      <td>6.000000</td>\n",
       "      <td>1.000000</td>\n",
       "      <td>18.000000</td>\n",
       "      <td>2.000000</td>\n",
       "      <td>3.000000</td>\n",
       "      <td>7.000000</td>\n",
       "      <td>196.392500</td>\n",
       "    </tr>\n",
       "    <tr>\n",
       "      <th>max</th>\n",
       "      <td>55630.000000</td>\n",
       "      <td>1.000000</td>\n",
       "      <td>61.000000</td>\n",
       "      <td>3.000000</td>\n",
       "      <td>127.000000</td>\n",
       "      <td>5.000000</td>\n",
       "      <td>6.000000</td>\n",
       "      <td>5.000000</td>\n",
       "      <td>22.000000</td>\n",
       "      <td>1.000000</td>\n",
       "      <td>26.000000</td>\n",
       "      <td>16.000000</td>\n",
       "      <td>16.000000</td>\n",
       "      <td>46.000000</td>\n",
       "      <td>324.990000</td>\n",
       "    </tr>\n",
       "  </tbody>\n",
       "</table>\n",
       "</div>"
      ],
      "text/plain": [
       "         CustomerID        Churn       Tenure     CityTier  WarehouseToHome  \\\n",
       "count   5630.000000  5630.000000  5366.000000  5630.000000      5379.000000   \n",
       "mean   52815.500000     0.168384    10.189899     1.654707        15.639896   \n",
       "std     1625.385339     0.374240     8.557241     0.915389         8.531475   \n",
       "min    50001.000000     0.000000     0.000000     1.000000         5.000000   \n",
       "25%    51408.250000     0.000000     2.000000     1.000000         9.000000   \n",
       "50%    52815.500000     0.000000     9.000000     1.000000        14.000000   \n",
       "75%    54222.750000     0.000000    16.000000     3.000000        20.000000   \n",
       "max    55630.000000     1.000000    61.000000     3.000000       127.000000   \n",
       "\n",
       "       HourSpendOnApp  NumberOfDeviceRegistered  SatisfactionScore  \\\n",
       "count     5375.000000               5630.000000        5630.000000   \n",
       "mean         2.931535                  3.688988           3.066785   \n",
       "std          0.721926                  1.023999           1.380194   \n",
       "min          0.000000                  1.000000           1.000000   \n",
       "25%          2.000000                  3.000000           2.000000   \n",
       "50%          3.000000                  4.000000           3.000000   \n",
       "75%          3.000000                  4.000000           4.000000   \n",
       "max          5.000000                  6.000000           5.000000   \n",
       "\n",
       "       NumberOfAddress     Complain  OrderAmountHikeFromlastYear   CouponUsed  \\\n",
       "count      5630.000000  5630.000000                  5365.000000  5374.000000   \n",
       "mean          4.214032     0.284902                    15.707922     1.751023   \n",
       "std           2.583586     0.451408                     3.675485     1.894621   \n",
       "min           1.000000     0.000000                    11.000000     0.000000   \n",
       "25%           2.000000     0.000000                    13.000000     1.000000   \n",
       "50%           3.000000     0.000000                    15.000000     1.000000   \n",
       "75%           6.000000     1.000000                    18.000000     2.000000   \n",
       "max          22.000000     1.000000                    26.000000    16.000000   \n",
       "\n",
       "        OrderCount  DaySinceLastOrder  CashbackAmount  \n",
       "count  5372.000000        5323.000000     5630.000000  \n",
       "mean      3.008004           4.543491      177.223030  \n",
       "std       2.939680           3.654433       49.207036  \n",
       "min       1.000000           0.000000        0.000000  \n",
       "25%       1.000000           2.000000      145.770000  \n",
       "50%       2.000000           3.000000      163.280000  \n",
       "75%       3.000000           7.000000      196.392500  \n",
       "max      16.000000          46.000000      324.990000  "
      ]
     },
     "execution_count": 6,
     "metadata": {},
     "output_type": "execute_result"
    }
   ],
   "source": [
    "df.describe()"
   ]
  },
  {
   "cell_type": "code",
   "execution_count": 7,
   "id": "ecf1957c-fedb-4356-9ceb-99832df10291",
   "metadata": {},
   "outputs": [],
   "source": [
    "df[\"Churned_Status\"]=np.where(df[\"Churn\"]==1,\"Churned\",\"Active\")"
   ]
  },
  {
   "cell_type": "code",
   "execution_count": 8,
   "id": "e5303d46-bf6e-451e-a9ff-cf78e2416911",
   "metadata": {},
   "outputs": [
    {
     "data": {
      "text/html": [
       "<div>\n",
       "<style scoped>\n",
       "    .dataframe tbody tr th:only-of-type {\n",
       "        vertical-align: middle;\n",
       "    }\n",
       "\n",
       "    .dataframe tbody tr th {\n",
       "        vertical-align: top;\n",
       "    }\n",
       "\n",
       "    .dataframe thead th {\n",
       "        text-align: right;\n",
       "    }\n",
       "</style>\n",
       "<table border=\"1\" class=\"dataframe\">\n",
       "  <thead>\n",
       "    <tr style=\"text-align: right;\">\n",
       "      <th></th>\n",
       "      <th>CustomerID</th>\n",
       "      <th>Churn</th>\n",
       "      <th>Tenure</th>\n",
       "      <th>PreferredLoginDevice</th>\n",
       "      <th>CityTier</th>\n",
       "      <th>WarehouseToHome</th>\n",
       "      <th>PreferredPaymentMode</th>\n",
       "      <th>Gender</th>\n",
       "      <th>HourSpendOnApp</th>\n",
       "      <th>NumberOfDeviceRegistered</th>\n",
       "      <th>...</th>\n",
       "      <th>SatisfactionScore</th>\n",
       "      <th>MaritalStatus</th>\n",
       "      <th>NumberOfAddress</th>\n",
       "      <th>Complain</th>\n",
       "      <th>OrderAmountHikeFromlastYear</th>\n",
       "      <th>CouponUsed</th>\n",
       "      <th>OrderCount</th>\n",
       "      <th>DaySinceLastOrder</th>\n",
       "      <th>CashbackAmount</th>\n",
       "      <th>Churned_Status</th>\n",
       "    </tr>\n",
       "  </thead>\n",
       "  <tbody>\n",
       "    <tr>\n",
       "      <th>0</th>\n",
       "      <td>50001</td>\n",
       "      <td>1</td>\n",
       "      <td>4.0</td>\n",
       "      <td>Mobile Phone</td>\n",
       "      <td>3</td>\n",
       "      <td>6.0</td>\n",
       "      <td>Debit Card</td>\n",
       "      <td>Female</td>\n",
       "      <td>3.0</td>\n",
       "      <td>3</td>\n",
       "      <td>...</td>\n",
       "      <td>2</td>\n",
       "      <td>Single</td>\n",
       "      <td>9</td>\n",
       "      <td>1</td>\n",
       "      <td>11.0</td>\n",
       "      <td>1.0</td>\n",
       "      <td>1.0</td>\n",
       "      <td>5.0</td>\n",
       "      <td>159.93</td>\n",
       "      <td>Churned</td>\n",
       "    </tr>\n",
       "    <tr>\n",
       "      <th>1</th>\n",
       "      <td>50002</td>\n",
       "      <td>1</td>\n",
       "      <td>NaN</td>\n",
       "      <td>Phone</td>\n",
       "      <td>1</td>\n",
       "      <td>8.0</td>\n",
       "      <td>UPI</td>\n",
       "      <td>Male</td>\n",
       "      <td>3.0</td>\n",
       "      <td>4</td>\n",
       "      <td>...</td>\n",
       "      <td>3</td>\n",
       "      <td>Single</td>\n",
       "      <td>7</td>\n",
       "      <td>1</td>\n",
       "      <td>15.0</td>\n",
       "      <td>0.0</td>\n",
       "      <td>1.0</td>\n",
       "      <td>0.0</td>\n",
       "      <td>120.90</td>\n",
       "      <td>Churned</td>\n",
       "    </tr>\n",
       "    <tr>\n",
       "      <th>2</th>\n",
       "      <td>50003</td>\n",
       "      <td>1</td>\n",
       "      <td>NaN</td>\n",
       "      <td>Phone</td>\n",
       "      <td>1</td>\n",
       "      <td>30.0</td>\n",
       "      <td>Debit Card</td>\n",
       "      <td>Male</td>\n",
       "      <td>2.0</td>\n",
       "      <td>4</td>\n",
       "      <td>...</td>\n",
       "      <td>3</td>\n",
       "      <td>Single</td>\n",
       "      <td>6</td>\n",
       "      <td>1</td>\n",
       "      <td>14.0</td>\n",
       "      <td>0.0</td>\n",
       "      <td>1.0</td>\n",
       "      <td>3.0</td>\n",
       "      <td>120.28</td>\n",
       "      <td>Churned</td>\n",
       "    </tr>\n",
       "    <tr>\n",
       "      <th>3</th>\n",
       "      <td>50004</td>\n",
       "      <td>1</td>\n",
       "      <td>0.0</td>\n",
       "      <td>Phone</td>\n",
       "      <td>3</td>\n",
       "      <td>15.0</td>\n",
       "      <td>Debit Card</td>\n",
       "      <td>Male</td>\n",
       "      <td>2.0</td>\n",
       "      <td>4</td>\n",
       "      <td>...</td>\n",
       "      <td>5</td>\n",
       "      <td>Single</td>\n",
       "      <td>8</td>\n",
       "      <td>0</td>\n",
       "      <td>23.0</td>\n",
       "      <td>0.0</td>\n",
       "      <td>1.0</td>\n",
       "      <td>3.0</td>\n",
       "      <td>134.07</td>\n",
       "      <td>Churned</td>\n",
       "    </tr>\n",
       "    <tr>\n",
       "      <th>4</th>\n",
       "      <td>50005</td>\n",
       "      <td>1</td>\n",
       "      <td>0.0</td>\n",
       "      <td>Phone</td>\n",
       "      <td>1</td>\n",
       "      <td>12.0</td>\n",
       "      <td>CC</td>\n",
       "      <td>Male</td>\n",
       "      <td>NaN</td>\n",
       "      <td>3</td>\n",
       "      <td>...</td>\n",
       "      <td>5</td>\n",
       "      <td>Single</td>\n",
       "      <td>3</td>\n",
       "      <td>0</td>\n",
       "      <td>11.0</td>\n",
       "      <td>1.0</td>\n",
       "      <td>1.0</td>\n",
       "      <td>3.0</td>\n",
       "      <td>129.60</td>\n",
       "      <td>Churned</td>\n",
       "    </tr>\n",
       "    <tr>\n",
       "      <th>...</th>\n",
       "      <td>...</td>\n",
       "      <td>...</td>\n",
       "      <td>...</td>\n",
       "      <td>...</td>\n",
       "      <td>...</td>\n",
       "      <td>...</td>\n",
       "      <td>...</td>\n",
       "      <td>...</td>\n",
       "      <td>...</td>\n",
       "      <td>...</td>\n",
       "      <td>...</td>\n",
       "      <td>...</td>\n",
       "      <td>...</td>\n",
       "      <td>...</td>\n",
       "      <td>...</td>\n",
       "      <td>...</td>\n",
       "      <td>...</td>\n",
       "      <td>...</td>\n",
       "      <td>...</td>\n",
       "      <td>...</td>\n",
       "      <td>...</td>\n",
       "    </tr>\n",
       "    <tr>\n",
       "      <th>5625</th>\n",
       "      <td>55626</td>\n",
       "      <td>0</td>\n",
       "      <td>10.0</td>\n",
       "      <td>Computer</td>\n",
       "      <td>1</td>\n",
       "      <td>30.0</td>\n",
       "      <td>Credit Card</td>\n",
       "      <td>Male</td>\n",
       "      <td>3.0</td>\n",
       "      <td>2</td>\n",
       "      <td>...</td>\n",
       "      <td>1</td>\n",
       "      <td>Married</td>\n",
       "      <td>6</td>\n",
       "      <td>0</td>\n",
       "      <td>18.0</td>\n",
       "      <td>1.0</td>\n",
       "      <td>2.0</td>\n",
       "      <td>4.0</td>\n",
       "      <td>150.71</td>\n",
       "      <td>Active</td>\n",
       "    </tr>\n",
       "    <tr>\n",
       "      <th>5626</th>\n",
       "      <td>55627</td>\n",
       "      <td>0</td>\n",
       "      <td>13.0</td>\n",
       "      <td>Mobile Phone</td>\n",
       "      <td>1</td>\n",
       "      <td>13.0</td>\n",
       "      <td>Credit Card</td>\n",
       "      <td>Male</td>\n",
       "      <td>3.0</td>\n",
       "      <td>5</td>\n",
       "      <td>...</td>\n",
       "      <td>5</td>\n",
       "      <td>Married</td>\n",
       "      <td>6</td>\n",
       "      <td>0</td>\n",
       "      <td>16.0</td>\n",
       "      <td>1.0</td>\n",
       "      <td>2.0</td>\n",
       "      <td>NaN</td>\n",
       "      <td>224.91</td>\n",
       "      <td>Active</td>\n",
       "    </tr>\n",
       "    <tr>\n",
       "      <th>5627</th>\n",
       "      <td>55628</td>\n",
       "      <td>0</td>\n",
       "      <td>1.0</td>\n",
       "      <td>Mobile Phone</td>\n",
       "      <td>1</td>\n",
       "      <td>11.0</td>\n",
       "      <td>Debit Card</td>\n",
       "      <td>Male</td>\n",
       "      <td>3.0</td>\n",
       "      <td>2</td>\n",
       "      <td>...</td>\n",
       "      <td>4</td>\n",
       "      <td>Married</td>\n",
       "      <td>3</td>\n",
       "      <td>1</td>\n",
       "      <td>21.0</td>\n",
       "      <td>1.0</td>\n",
       "      <td>2.0</td>\n",
       "      <td>4.0</td>\n",
       "      <td>186.42</td>\n",
       "      <td>Active</td>\n",
       "    </tr>\n",
       "    <tr>\n",
       "      <th>5628</th>\n",
       "      <td>55629</td>\n",
       "      <td>0</td>\n",
       "      <td>23.0</td>\n",
       "      <td>Computer</td>\n",
       "      <td>3</td>\n",
       "      <td>9.0</td>\n",
       "      <td>Credit Card</td>\n",
       "      <td>Male</td>\n",
       "      <td>4.0</td>\n",
       "      <td>5</td>\n",
       "      <td>...</td>\n",
       "      <td>4</td>\n",
       "      <td>Married</td>\n",
       "      <td>4</td>\n",
       "      <td>0</td>\n",
       "      <td>15.0</td>\n",
       "      <td>2.0</td>\n",
       "      <td>2.0</td>\n",
       "      <td>9.0</td>\n",
       "      <td>178.90</td>\n",
       "      <td>Active</td>\n",
       "    </tr>\n",
       "    <tr>\n",
       "      <th>5629</th>\n",
       "      <td>55630</td>\n",
       "      <td>0</td>\n",
       "      <td>8.0</td>\n",
       "      <td>Mobile Phone</td>\n",
       "      <td>1</td>\n",
       "      <td>15.0</td>\n",
       "      <td>Credit Card</td>\n",
       "      <td>Male</td>\n",
       "      <td>3.0</td>\n",
       "      <td>2</td>\n",
       "      <td>...</td>\n",
       "      <td>3</td>\n",
       "      <td>Married</td>\n",
       "      <td>4</td>\n",
       "      <td>0</td>\n",
       "      <td>13.0</td>\n",
       "      <td>2.0</td>\n",
       "      <td>2.0</td>\n",
       "      <td>3.0</td>\n",
       "      <td>169.04</td>\n",
       "      <td>Active</td>\n",
       "    </tr>\n",
       "  </tbody>\n",
       "</table>\n",
       "<p>5630 rows × 21 columns</p>\n",
       "</div>"
      ],
      "text/plain": [
       "      CustomerID  Churn  Tenure PreferredLoginDevice  CityTier  \\\n",
       "0          50001      1     4.0         Mobile Phone         3   \n",
       "1          50002      1     NaN                Phone         1   \n",
       "2          50003      1     NaN                Phone         1   \n",
       "3          50004      1     0.0                Phone         3   \n",
       "4          50005      1     0.0                Phone         1   \n",
       "...          ...    ...     ...                  ...       ...   \n",
       "5625       55626      0    10.0             Computer         1   \n",
       "5626       55627      0    13.0         Mobile Phone         1   \n",
       "5627       55628      0     1.0         Mobile Phone         1   \n",
       "5628       55629      0    23.0             Computer         3   \n",
       "5629       55630      0     8.0         Mobile Phone         1   \n",
       "\n",
       "      WarehouseToHome PreferredPaymentMode  Gender  HourSpendOnApp  \\\n",
       "0                 6.0           Debit Card  Female             3.0   \n",
       "1                 8.0                  UPI    Male             3.0   \n",
       "2                30.0           Debit Card    Male             2.0   \n",
       "3                15.0           Debit Card    Male             2.0   \n",
       "4                12.0                   CC    Male             NaN   \n",
       "...               ...                  ...     ...             ...   \n",
       "5625             30.0          Credit Card    Male             3.0   \n",
       "5626             13.0          Credit Card    Male             3.0   \n",
       "5627             11.0           Debit Card    Male             3.0   \n",
       "5628              9.0          Credit Card    Male             4.0   \n",
       "5629             15.0          Credit Card    Male             3.0   \n",
       "\n",
       "      NumberOfDeviceRegistered  ... SatisfactionScore  MaritalStatus  \\\n",
       "0                            3  ...                 2         Single   \n",
       "1                            4  ...                 3         Single   \n",
       "2                            4  ...                 3         Single   \n",
       "3                            4  ...                 5         Single   \n",
       "4                            3  ...                 5         Single   \n",
       "...                        ...  ...               ...            ...   \n",
       "5625                         2  ...                 1        Married   \n",
       "5626                         5  ...                 5        Married   \n",
       "5627                         2  ...                 4        Married   \n",
       "5628                         5  ...                 4        Married   \n",
       "5629                         2  ...                 3        Married   \n",
       "\n",
       "     NumberOfAddress  Complain  OrderAmountHikeFromlastYear  CouponUsed  \\\n",
       "0                  9         1                         11.0         1.0   \n",
       "1                  7         1                         15.0         0.0   \n",
       "2                  6         1                         14.0         0.0   \n",
       "3                  8         0                         23.0         0.0   \n",
       "4                  3         0                         11.0         1.0   \n",
       "...              ...       ...                          ...         ...   \n",
       "5625               6         0                         18.0         1.0   \n",
       "5626               6         0                         16.0         1.0   \n",
       "5627               3         1                         21.0         1.0   \n",
       "5628               4         0                         15.0         2.0   \n",
       "5629               4         0                         13.0         2.0   \n",
       "\n",
       "      OrderCount  DaySinceLastOrder  CashbackAmount  Churned_Status  \n",
       "0            1.0                5.0          159.93         Churned  \n",
       "1            1.0                0.0          120.90         Churned  \n",
       "2            1.0                3.0          120.28         Churned  \n",
       "3            1.0                3.0          134.07         Churned  \n",
       "4            1.0                3.0          129.60         Churned  \n",
       "...          ...                ...             ...             ...  \n",
       "5625         2.0                4.0          150.71          Active  \n",
       "5626         2.0                NaN          224.91          Active  \n",
       "5627         2.0                4.0          186.42          Active  \n",
       "5628         2.0                9.0          178.90          Active  \n",
       "5629         2.0                3.0          169.04          Active  \n",
       "\n",
       "[5630 rows x 21 columns]"
      ]
     },
     "execution_count": 8,
     "metadata": {},
     "output_type": "execute_result"
    }
   ],
   "source": [
    "df"
   ]
  },
  {
   "cell_type": "code",
   "execution_count": 9,
   "id": "42886dc7-d2a0-4495-9f66-e0560f0b1671",
   "metadata": {},
   "outputs": [
    {
     "name": "stdout",
     "output_type": "stream",
     "text": [
      "10.189899366380917\n"
     ]
    }
   ],
   "source": [
    "tenure_mean=df[\"Tenure\"].mean()\n",
    "print(tenure_mean)"
   ]
  },
  {
   "cell_type": "code",
   "execution_count": 10,
   "id": "5b38f6ff-502b-4cc4-b7ef-74c3657139ae",
   "metadata": {},
   "outputs": [],
   "source": [
    "df[\"Tenure\"]=df[\"Tenure\"].fillna(df[\"Tenure\"].mean())"
   ]
  },
  {
   "cell_type": "code",
   "execution_count": 11,
   "id": "5efa1b77-0fc1-401c-9b51-43bc70ba4105",
   "metadata": {},
   "outputs": [
    {
     "data": {
      "text/plain": [
       "np.int64(0)"
      ]
     },
     "execution_count": 11,
     "metadata": {},
     "output_type": "execute_result"
    }
   ],
   "source": [
    "df[\"Tenure\"].isnull().sum()"
   ]
  },
  {
   "cell_type": "code",
   "execution_count": 12,
   "id": "5f5e7571-f4f0-4511-ab0b-c24b8adea9ed",
   "metadata": {},
   "outputs": [],
   "source": [
    "new_df=df.copy()"
   ]
  },
  {
   "cell_type": "code",
   "execution_count": 13,
   "id": "a40bffc4-5111-4602-8500-66af9fac0324",
   "metadata": {},
   "outputs": [
    {
     "data": {
      "text/plain": [
       "0.0"
      ]
     },
     "execution_count": 13,
     "metadata": {},
     "output_type": "execute_result"
    }
   ],
   "source": [
    "new_df[\"Tenure\"].min()"
   ]
  },
  {
   "cell_type": "code",
   "execution_count": 14,
   "id": "5897b252-856f-45b9-86cb-e009288b7d12",
   "metadata": {},
   "outputs": [
    {
     "data": {
      "text/plain": [
       "61.0"
      ]
     },
     "execution_count": 14,
     "metadata": {},
     "output_type": "execute_result"
    }
   ],
   "source": [
    "new_df[\"Tenure\"].max()"
   ]
  },
  {
   "cell_type": "code",
   "execution_count": 15,
   "id": "f3cd9809-f1aa-4378-afe9-39e1033a20d6",
   "metadata": {},
   "outputs": [],
   "source": [
    "bins=[0,6,12,24,new_df.Tenure.max()+1]\n",
    "labels=['0-6 months','1 year','2 year','more than 2 year']\n",
    "new_df[\"Tenure_Range\"]=pd.cut(new_df.Tenure,bins=bins,right=False,labels=labels)"
   ]
  },
  {
   "cell_type": "code",
   "execution_count": 16,
   "id": "e605d4f9-8c11-4e53-8447-3575155918e3",
   "metadata": {},
   "outputs": [
    {
     "data": {
      "text/plain": [
       "Tenure_Range\n",
       "0-6 months          1967\n",
       "1 year              1585\n",
       "2 year              1574\n",
       "more than 2 year     504\n",
       "Name: count, dtype: int64"
      ]
     },
     "execution_count": 16,
     "metadata": {},
     "output_type": "execute_result"
    }
   ],
   "source": [
    "new_df.Tenure_Range.value_counts()"
   ]
  },
  {
   "cell_type": "code",
   "execution_count": 17,
   "id": "639e4833-ca84-4ac9-8644-0c4b3f29a22a",
   "metadata": {},
   "outputs": [],
   "source": [
    "new_df[\"PreferredLoginDevice\"]=new_df[\"PreferredLoginDevice\"].replace(\"Mobile Phone\",\"Phone\")"
   ]
  },
  {
   "cell_type": "code",
   "execution_count": 18,
   "id": "f2efa951-2535-42a5-b527-a7d22b797493",
   "metadata": {},
   "outputs": [
    {
     "data": {
      "text/plain": [
       "0          Phone\n",
       "1          Phone\n",
       "2          Phone\n",
       "3          Phone\n",
       "4          Phone\n",
       "          ...   \n",
       "5625    Computer\n",
       "5626       Phone\n",
       "5627       Phone\n",
       "5628    Computer\n",
       "5629       Phone\n",
       "Name: PreferredLoginDevice, Length: 5630, dtype: object"
      ]
     },
     "execution_count": 18,
     "metadata": {},
     "output_type": "execute_result"
    }
   ],
   "source": [
    "new_df[\"PreferredLoginDevice\"]"
   ]
  },
  {
   "cell_type": "code",
   "execution_count": 19,
   "id": "1d8e1e7d-38c5-4620-9214-0b563638fa7b",
   "metadata": {},
   "outputs": [
    {
     "data": {
      "text/plain": [
       "Series([], Name: z_score, dtype: float64)"
      ]
     },
     "execution_count": 19,
     "metadata": {},
     "output_type": "execute_result"
    }
   ],
   "source": [
    "from scipy.stats import zscore\n",
    "new_df[\"z_score\"]=zscore(new_df[\"WarehouseToHome\"])\n",
    "outlier=new_df[new_df[\"z_score\"].abs()>3]  #Typically Zscore >3 are outliers\n",
    "outlier[\"z_score\"]"
   ]
  },
  {
   "cell_type": "markdown",
   "id": "ed3537cc-552d-40bc-a0e7-df3cd66e1bfc",
   "metadata": {},
   "source": [
    "# Outliers"
   ]
  },
  {
   "cell_type": "code",
   "execution_count": 20,
   "id": "c69cdc6a-b180-4c18-a8a5-30a1dd5cc8e9",
   "metadata": {},
   "outputs": [
    {
     "data": {
      "text/plain": [
       "<Axes: xlabel='WarehouseToHome'>"
      ]
     },
     "execution_count": 20,
     "metadata": {},
     "output_type": "execute_result"
    },
    {
     "data": {
      "image/png": "[encoded data removed]",
      "text/plain": [
       "<Figure size 640x480 with 1 Axes>"
      ]
     },
     "metadata": {},
     "output_type": "display_data"
    }
   ],
   "source": [
    "sns.boxplot(x=new_df[\"WarehouseToHome\"])"
   ]
  },
  {
   "cell_type": "code",
   "execution_count": 21,
   "id": "c0c3d497-42d2-4bca-8843-4daa723fbb2d",
   "metadata": {},
   "outputs": [],
   "source": [
    "new_df[\"WarehouseToHome\"]=new_df[\"WarehouseToHome\"].replace(127,27)\n",
    "new_df[\"WarehouseToHome\"]=new_df[\"WarehouseToHome\"].replace(126,26)"
   ]
  },
  {
   "cell_type": "code",
   "execution_count": 22,
   "id": "ddf85d24-42e2-43e3-9e4d-41f606b8de1d",
   "metadata": {},
   "outputs": [
    {
     "data": {
      "text/plain": [
       "<Axes: xlabel='WarehouseToHome'>"
      ]
     },
     "execution_count": 22,
     "metadata": {},
     "output_type": "execute_result"
    },
    {
     "data": {
      "image/png": "[encoded data removed]",
      "text/plain": [
       "<Figure size 640x480 with 1 Axes>"
      ]
     },
     "metadata": {},
     "output_type": "display_data"
    }
   ],
   "source": [
    "sns.boxplot(x=new_df[\"WarehouseToHome\"])"
   ]
  },
  {
   "cell_type": "code",
   "execution_count": 23,
   "id": "97853c19-55a1-4135-b8dc-4ace619b1107",
   "metadata": {},
   "outputs": [
    {
     "data": {
      "text/plain": [
       "5.0"
      ]
     },
     "execution_count": 23,
     "metadata": {},
     "output_type": "execute_result"
    }
   ],
   "source": [
    "new_df[\"WarehouseToHome\"].min()"
   ]
  },
  {
   "cell_type": "code",
   "execution_count": 24,
   "id": "9166b80d-aceb-48a9-be0c-d222449cc4ce",
   "metadata": {},
   "outputs": [
    {
     "data": {
      "text/plain": [
       "36.0"
      ]
     },
     "execution_count": 24,
     "metadata": {},
     "output_type": "execute_result"
    }
   ],
   "source": [
    "new_df[\"WarehouseToHome\"].max()"
   ]
  },
  {
   "cell_type": "code",
   "execution_count": 25,
   "id": "5c27e382-39ce-4d52-844f-67062808c0f0",
   "metadata": {},
   "outputs": [
    {
     "data": {
      "text/plain": [
       "np.float64(15.602714259155977)"
      ]
     },
     "execution_count": 25,
     "metadata": {},
     "output_type": "execute_result"
    }
   ],
   "source": [
    "new_df[\"WarehouseToHome\"].mean()"
   ]
  },
  {
   "cell_type": "code",
   "execution_count": 26,
   "id": "9c55b07e-a608-4d6b-a34e-54e4f1ec907f",
   "metadata": {},
   "outputs": [],
   "source": [
    "labels=['VeryCloseDistance','CloseDistance','ModerateDistance','FarDistance']\n",
    "bins=[0,5,15,30,new_df[\"WarehouseToHome\"].max()]\n",
    "new_df[\"DistanceCategory\"]=pd.cut(new_df[\"WarehouseToHome\"],bins=bins,labels=labels,include_lowest=True)"
   ]
  },
  {
   "cell_type": "code",
   "execution_count": 27,
   "id": "3478f0b6-a386-4b85-82de-da1862b9bf3e",
   "metadata": {},
   "outputs": [
    {
     "data": {
      "text/html": [
       "<div>\n",
       "<style scoped>\n",
       "    .dataframe tbody tr th:only-of-type {\n",
       "        vertical-align: middle;\n",
       "    }\n",
       "\n",
       "    .dataframe tbody tr th {\n",
       "        vertical-align: top;\n",
       "    }\n",
       "\n",
       "    .dataframe thead th {\n",
       "        text-align: right;\n",
       "    }\n",
       "</style>\n",
       "<table border=\"1\" class=\"dataframe\">\n",
       "  <thead>\n",
       "    <tr style=\"text-align: right;\">\n",
       "      <th></th>\n",
       "      <th>CustomerID</th>\n",
       "      <th>Churn</th>\n",
       "      <th>Tenure</th>\n",
       "      <th>PreferredLoginDevice</th>\n",
       "      <th>CityTier</th>\n",
       "      <th>WarehouseToHome</th>\n",
       "      <th>PreferredPaymentMode</th>\n",
       "      <th>Gender</th>\n",
       "      <th>HourSpendOnApp</th>\n",
       "      <th>NumberOfDeviceRegistered</th>\n",
       "      <th>...</th>\n",
       "      <th>Complain</th>\n",
       "      <th>OrderAmountHikeFromlastYear</th>\n",
       "      <th>CouponUsed</th>\n",
       "      <th>OrderCount</th>\n",
       "      <th>DaySinceLastOrder</th>\n",
       "      <th>CashbackAmount</th>\n",
       "      <th>Churned_Status</th>\n",
       "      <th>Tenure_Range</th>\n",
       "      <th>z_score</th>\n",
       "      <th>DistanceCategory</th>\n",
       "    </tr>\n",
       "  </thead>\n",
       "  <tbody>\n",
       "    <tr>\n",
       "      <th>5625</th>\n",
       "      <td>55626</td>\n",
       "      <td>0</td>\n",
       "      <td>10.0</td>\n",
       "      <td>Computer</td>\n",
       "      <td>1</td>\n",
       "      <td>30.0</td>\n",
       "      <td>Credit Card</td>\n",
       "      <td>Male</td>\n",
       "      <td>3.0</td>\n",
       "      <td>2</td>\n",
       "      <td>...</td>\n",
       "      <td>0</td>\n",
       "      <td>18.0</td>\n",
       "      <td>1.0</td>\n",
       "      <td>2.0</td>\n",
       "      <td>4.0</td>\n",
       "      <td>150.71</td>\n",
       "      <td>Active</td>\n",
       "      <td>1 year</td>\n",
       "      <td>NaN</td>\n",
       "      <td>ModerateDistance</td>\n",
       "    </tr>\n",
       "    <tr>\n",
       "      <th>5626</th>\n",
       "      <td>55627</td>\n",
       "      <td>0</td>\n",
       "      <td>13.0</td>\n",
       "      <td>Phone</td>\n",
       "      <td>1</td>\n",
       "      <td>13.0</td>\n",
       "      <td>Credit Card</td>\n",
       "      <td>Male</td>\n",
       "      <td>3.0</td>\n",
       "      <td>5</td>\n",
       "      <td>...</td>\n",
       "      <td>0</td>\n",
       "      <td>16.0</td>\n",
       "      <td>1.0</td>\n",
       "      <td>2.0</td>\n",
       "      <td>NaN</td>\n",
       "      <td>224.91</td>\n",
       "      <td>Active</td>\n",
       "      <td>2 year</td>\n",
       "      <td>NaN</td>\n",
       "      <td>CloseDistance</td>\n",
       "    </tr>\n",
       "    <tr>\n",
       "      <th>5627</th>\n",
       "      <td>55628</td>\n",
       "      <td>0</td>\n",
       "      <td>1.0</td>\n",
       "      <td>Phone</td>\n",
       "      <td>1</td>\n",
       "      <td>11.0</td>\n",
       "      <td>Debit Card</td>\n",
       "      <td>Male</td>\n",
       "      <td>3.0</td>\n",
       "      <td>2</td>\n",
       "      <td>...</td>\n",
       "      <td>1</td>\n",
       "      <td>21.0</td>\n",
       "      <td>1.0</td>\n",
       "      <td>2.0</td>\n",
       "      <td>4.0</td>\n",
       "      <td>186.42</td>\n",
       "      <td>Active</td>\n",
       "      <td>0-6 months</td>\n",
       "      <td>NaN</td>\n",
       "      <td>CloseDistance</td>\n",
       "    </tr>\n",
       "    <tr>\n",
       "      <th>5628</th>\n",
       "      <td>55629</td>\n",
       "      <td>0</td>\n",
       "      <td>23.0</td>\n",
       "      <td>Computer</td>\n",
       "      <td>3</td>\n",
       "      <td>9.0</td>\n",
       "      <td>Credit Card</td>\n",
       "      <td>Male</td>\n",
       "      <td>4.0</td>\n",
       "      <td>5</td>\n",
       "      <td>...</td>\n",
       "      <td>0</td>\n",
       "      <td>15.0</td>\n",
       "      <td>2.0</td>\n",
       "      <td>2.0</td>\n",
       "      <td>9.0</td>\n",
       "      <td>178.90</td>\n",
       "      <td>Active</td>\n",
       "      <td>2 year</td>\n",
       "      <td>NaN</td>\n",
       "      <td>CloseDistance</td>\n",
       "    </tr>\n",
       "    <tr>\n",
       "      <th>5629</th>\n",
       "      <td>55630</td>\n",
       "      <td>0</td>\n",
       "      <td>8.0</td>\n",
       "      <td>Phone</td>\n",
       "      <td>1</td>\n",
       "      <td>15.0</td>\n",
       "      <td>Credit Card</td>\n",
       "      <td>Male</td>\n",
       "      <td>3.0</td>\n",
       "      <td>2</td>\n",
       "      <td>...</td>\n",
       "      <td>0</td>\n",
       "      <td>13.0</td>\n",
       "      <td>2.0</td>\n",
       "      <td>2.0</td>\n",
       "      <td>3.0</td>\n",
       "      <td>169.04</td>\n",
       "      <td>Active</td>\n",
       "      <td>1 year</td>\n",
       "      <td>NaN</td>\n",
       "      <td>CloseDistance</td>\n",
       "    </tr>\n",
       "  </tbody>\n",
       "</table>\n",
       "<p>5 rows × 24 columns</p>\n",
       "</div>"
      ],
      "text/plain": [
       "      CustomerID  Churn  Tenure PreferredLoginDevice  CityTier  \\\n",
       "5625       55626      0    10.0             Computer         1   \n",
       "5626       55627      0    13.0                Phone         1   \n",
       "5627       55628      0     1.0                Phone         1   \n",
       "5628       55629      0    23.0             Computer         3   \n",
       "5629       55630      0     8.0                Phone         1   \n",
       "\n",
       "      WarehouseToHome PreferredPaymentMode Gender  HourSpendOnApp  \\\n",
       "5625             30.0          Credit Card   Male             3.0   \n",
       "5626             13.0          Credit Card   Male             3.0   \n",
       "5627             11.0           Debit Card   Male             3.0   \n",
       "5628              9.0          Credit Card   Male             4.0   \n",
       "5629             15.0          Credit Card   Male             3.0   \n",
       "\n",
       "      NumberOfDeviceRegistered  ... Complain  OrderAmountHikeFromlastYear  \\\n",
       "5625                         2  ...        0                         18.0   \n",
       "5626                         5  ...        0                         16.0   \n",
       "5627                         2  ...        1                         21.0   \n",
       "5628                         5  ...        0                         15.0   \n",
       "5629                         2  ...        0                         13.0   \n",
       "\n",
       "     CouponUsed  OrderCount  DaySinceLastOrder  CashbackAmount  \\\n",
       "5625        1.0         2.0                4.0          150.71   \n",
       "5626        1.0         2.0                NaN          224.91   \n",
       "5627        1.0         2.0                4.0          186.42   \n",
       "5628        2.0         2.0                9.0          178.90   \n",
       "5629        2.0         2.0                3.0          169.04   \n",
       "\n",
       "      Churned_Status  Tenure_Range  z_score  DistanceCategory  \n",
       "5625          Active        1 year      NaN  ModerateDistance  \n",
       "5626          Active        2 year      NaN     CloseDistance  \n",
       "5627          Active    0-6 months      NaN     CloseDistance  \n",
       "5628          Active        2 year      NaN     CloseDistance  \n",
       "5629          Active        1 year      NaN     CloseDistance  \n",
       "\n",
       "[5 rows x 24 columns]"
      ]
     },
     "execution_count": 27,
     "metadata": {},
     "output_type": "execute_result"
    }
   ],
   "source": [
    "new_df.tail()"
   ]
  },
  {
   "cell_type": "code",
   "execution_count": 28,
   "id": "84786602-52c3-4f1f-aa83-ba4d8a8557f7",
   "metadata": {},
   "outputs": [
    {
     "name": "stdout",
     "output_type": "stream",
     "text": [
      "<class 'pandas.core.frame.DataFrame'>\n",
      "RangeIndex: 5630 entries, 0 to 5629\n",
      "Data columns (total 24 columns):\n",
      " #   Column                       Non-Null Count  Dtype   \n",
      "---  ------                       --------------  -----   \n",
      " 0   CustomerID                   5630 non-null   int64   \n",
      " 1   Churn                        5630 non-null   int64   \n",
      " 2   Tenure                       5630 non-null   float64 \n",
      " 3   PreferredLoginDevice         5630 non-null   object  \n",
      " 4   CityTier                     5630 non-null   int64   \n",
      " 5   WarehouseToHome              5379 non-null   float64 \n",
      " 6   PreferredPaymentMode         5630 non-null   object  \n",
      " 7   Gender                       5630 non-null   object  \n",
      " 8   HourSpendOnApp               5375 non-null   float64 \n",
      " 9   NumberOfDeviceRegistered     5630 non-null   int64   \n",
      " 10  PreferedOrderCat             5630 non-null   object  \n",
      " 11  SatisfactionScore            5630 non-null   int64   \n",
      " 12  MaritalStatus                5630 non-null   object  \n",
      " 13  NumberOfAddress              5630 non-null   int64   \n",
      " 14  Complain                     5630 non-null   int64   \n",
      " 15  OrderAmountHikeFromlastYear  5365 non-null   float64 \n",
      " 16  CouponUsed                   5374 non-null   float64 \n",
      " 17  OrderCount                   5372 non-null   float64 \n",
      " 18  DaySinceLastOrder            5323 non-null   float64 \n",
      " 19  CashbackAmount               5630 non-null   float64 \n",
      " 20  Churned_Status               5630 non-null   object  \n",
      " 21  Tenure_Range                 5630 non-null   category\n",
      " 22  z_score                      0 non-null      float64 \n",
      " 23  DistanceCategory             5379 non-null   category\n",
      "dtypes: category(2), float64(9), int64(7), object(6)\n",
      "memory usage: 979.2+ KB\n"
     ]
    }
   ],
   "source": [
    "new_df.info()"
   ]
  },
  {
   "cell_type": "code",
   "execution_count": 29,
   "id": "eb0f14ac-64d1-4b22-89ba-db2f990dcca3",
   "metadata": {},
   "outputs": [],
   "source": [
    "new_df[\"PreferredPaymentMode\"]=new_df[\"PreferredPaymentMode\"].replace(\"CC\",\"Credit Card\")\n",
    "new_df[\"PreferredPaymentMode\"]=new_df[\"PreferredPaymentMode\"].replace(\"COD\",\"Cash on Delivery\")"
   ]
  },
  {
   "cell_type": "code",
   "execution_count": 30,
   "id": "e3b348aa-df67-4e6d-8d92-5438860cf4be",
   "metadata": {},
   "outputs": [
    {
     "data": {
      "text/plain": [
       "0        Debit Card\n",
       "1               UPI\n",
       "2        Debit Card\n",
       "3        Debit Card\n",
       "4       Credit Card\n",
       "           ...     \n",
       "5625    Credit Card\n",
       "5626    Credit Card\n",
       "5627     Debit Card\n",
       "5628    Credit Card\n",
       "5629    Credit Card\n",
       "Name: PreferredPaymentMode, Length: 5630, dtype: object"
      ]
     },
     "execution_count": 30,
     "metadata": {},
     "output_type": "execute_result"
    }
   ],
   "source": [
    "new_df[\"PreferredPaymentMode\"]"
   ]
  },
  {
   "cell_type": "code",
   "execution_count": 31,
   "id": "0f88420c-4a3b-40cc-847f-d5397007292f",
   "metadata": {},
   "outputs": [
    {
     "name": "stdout",
     "output_type": "stream",
     "text": [
      "2.9315348837209303\n"
     ]
    }
   ],
   "source": [
    "mean_hours=new_df[\"HourSpendOnApp\"].mean()\n",
    "print(mean_hours)"
   ]
  },
  {
   "cell_type": "code",
   "execution_count": 32,
   "id": "2afb3a4e-f42d-4c77-bcf8-1e7488fa5417",
   "metadata": {},
   "outputs": [],
   "source": [
    "new_df[\"HourSpendOnApp\"]=new_df[\"HourSpendOnApp\"].fillna(new_df[\"HourSpendOnApp\"].mean())"
   ]
  },
  {
   "cell_type": "code",
   "execution_count": 33,
   "id": "b2aa7685-f7b2-450c-bcd1-9374e462b3fe",
   "metadata": {},
   "outputs": [
    {
     "data": {
      "text/plain": [
       "np.int64(0)"
      ]
     },
     "execution_count": 33,
     "metadata": {},
     "output_type": "execute_result"
    }
   ],
   "source": [
    "new_df[\"HourSpendOnApp\"].isnull().sum()"
   ]
  },
  {
   "cell_type": "code",
   "execution_count": 34,
   "id": "e0582aa9-f3a6-4f61-917f-303b61b53fe9",
   "metadata": {},
   "outputs": [],
   "source": [
    "new_df[\"PreferedOrderCat\"]=new_df[\"PreferedOrderCat\"].replace(\"Mobile Phone\",\"Phone\")"
   ]
  },
  {
   "cell_type": "code",
   "execution_count": 35,
   "id": "d694553e-4d25-4d9d-9413-09ee7b6fd19f",
   "metadata": {},
   "outputs": [],
   "source": [
    "new_df[\"ComplainRecieved\"]=np.where(new_df[\"Complain\"]==1,\"Yes\",\"No\")"
   ]
  },
  {
   "cell_type": "code",
   "execution_count": 36,
   "id": "5657f532-834b-472b-b9bc-8950d3fc701d",
   "metadata": {},
   "outputs": [
    {
     "data": {
      "text/html": [
       "<div>\n",
       "<style scoped>\n",
       "    .dataframe tbody tr th:only-of-type {\n",
       "        vertical-align: middle;\n",
       "    }\n",
       "\n",
       "    .dataframe tbody tr th {\n",
       "        vertical-align: top;\n",
       "    }\n",
       "\n",
       "    .dataframe thead th {\n",
       "        text-align: right;\n",
       "    }\n",
       "</style>\n",
       "<table border=\"1\" class=\"dataframe\">\n",
       "  <thead>\n",
       "    <tr style=\"text-align: right;\">\n",
       "      <th></th>\n",
       "      <th>Complain</th>\n",
       "      <th>ComplainRecieved</th>\n",
       "    </tr>\n",
       "  </thead>\n",
       "  <tbody>\n",
       "    <tr>\n",
       "      <th>0</th>\n",
       "      <td>1</td>\n",
       "      <td>Yes</td>\n",
       "    </tr>\n",
       "    <tr>\n",
       "      <th>1</th>\n",
       "      <td>1</td>\n",
       "      <td>Yes</td>\n",
       "    </tr>\n",
       "    <tr>\n",
       "      <th>2</th>\n",
       "      <td>1</td>\n",
       "      <td>Yes</td>\n",
       "    </tr>\n",
       "    <tr>\n",
       "      <th>3</th>\n",
       "      <td>0</td>\n",
       "      <td>No</td>\n",
       "    </tr>\n",
       "    <tr>\n",
       "      <th>4</th>\n",
       "      <td>0</td>\n",
       "      <td>No</td>\n",
       "    </tr>\n",
       "    <tr>\n",
       "      <th>...</th>\n",
       "      <td>...</td>\n",
       "      <td>...</td>\n",
       "    </tr>\n",
       "    <tr>\n",
       "      <th>5625</th>\n",
       "      <td>0</td>\n",
       "      <td>No</td>\n",
       "    </tr>\n",
       "    <tr>\n",
       "      <th>5626</th>\n",
       "      <td>0</td>\n",
       "      <td>No</td>\n",
       "    </tr>\n",
       "    <tr>\n",
       "      <th>5627</th>\n",
       "      <td>1</td>\n",
       "      <td>Yes</td>\n",
       "    </tr>\n",
       "    <tr>\n",
       "      <th>5628</th>\n",
       "      <td>0</td>\n",
       "      <td>No</td>\n",
       "    </tr>\n",
       "    <tr>\n",
       "      <th>5629</th>\n",
       "      <td>0</td>\n",
       "      <td>No</td>\n",
       "    </tr>\n",
       "  </tbody>\n",
       "</table>\n",
       "<p>5630 rows × 2 columns</p>\n",
       "</div>"
      ],
      "text/plain": [
       "      Complain ComplainRecieved\n",
       "0            1              Yes\n",
       "1            1              Yes\n",
       "2            1              Yes\n",
       "3            0               No\n",
       "4            0               No\n",
       "...        ...              ...\n",
       "5625         0               No\n",
       "5626         0               No\n",
       "5627         1              Yes\n",
       "5628         0               No\n",
       "5629         0               No\n",
       "\n",
       "[5630 rows x 2 columns]"
      ]
     },
     "execution_count": 36,
     "metadata": {},
     "output_type": "execute_result"
    }
   ],
   "source": [
    "new_df[[\"Complain\",\"ComplainRecieved\"]]"
   ]
  },
  {
   "cell_type": "code",
   "execution_count": 37,
   "id": "9b9ee463-3c5c-4def-8e3d-97555794b925",
   "metadata": {},
   "outputs": [
    {
     "data": {
      "text/html": [
       "<div>\n",
       "<style scoped>\n",
       "    .dataframe tbody tr th:only-of-type {\n",
       "        vertical-align: middle;\n",
       "    }\n",
       "\n",
       "    .dataframe tbody tr th {\n",
       "        vertical-align: top;\n",
       "    }\n",
       "\n",
       "    .dataframe thead th {\n",
       "        text-align: right;\n",
       "    }\n",
       "</style>\n",
       "<table border=\"1\" class=\"dataframe\">\n",
       "  <thead>\n",
       "    <tr style=\"text-align: right;\">\n",
       "      <th></th>\n",
       "      <th>CustomerID</th>\n",
       "      <th>Churn</th>\n",
       "      <th>Tenure</th>\n",
       "      <th>PreferredLoginDevice</th>\n",
       "      <th>CityTier</th>\n",
       "      <th>WarehouseToHome</th>\n",
       "      <th>PreferredPaymentMode</th>\n",
       "      <th>Gender</th>\n",
       "      <th>HourSpendOnApp</th>\n",
       "      <th>NumberOfDeviceRegistered</th>\n",
       "      <th>...</th>\n",
       "      <th>OrderAmountHikeFromlastYear</th>\n",
       "      <th>CouponUsed</th>\n",
       "      <th>OrderCount</th>\n",
       "      <th>DaySinceLastOrder</th>\n",
       "      <th>CashbackAmount</th>\n",
       "      <th>Churned_Status</th>\n",
       "      <th>Tenure_Range</th>\n",
       "      <th>z_score</th>\n",
       "      <th>DistanceCategory</th>\n",
       "      <th>ComplainRecieved</th>\n",
       "    </tr>\n",
       "  </thead>\n",
       "  <tbody>\n",
       "    <tr>\n",
       "      <th>0</th>\n",
       "      <td>50001</td>\n",
       "      <td>1</td>\n",
       "      <td>4.000000</td>\n",
       "      <td>Phone</td>\n",
       "      <td>3</td>\n",
       "      <td>6.0</td>\n",
       "      <td>Debit Card</td>\n",
       "      <td>Female</td>\n",
       "      <td>3.000000</td>\n",
       "      <td>3</td>\n",
       "      <td>...</td>\n",
       "      <td>11.0</td>\n",
       "      <td>1.0</td>\n",
       "      <td>1.0</td>\n",
       "      <td>5.0</td>\n",
       "      <td>159.93</td>\n",
       "      <td>Churned</td>\n",
       "      <td>0-6 months</td>\n",
       "      <td>NaN</td>\n",
       "      <td>CloseDistance</td>\n",
       "      <td>Yes</td>\n",
       "    </tr>\n",
       "    <tr>\n",
       "      <th>1</th>\n",
       "      <td>50002</td>\n",
       "      <td>1</td>\n",
       "      <td>10.189899</td>\n",
       "      <td>Phone</td>\n",
       "      <td>1</td>\n",
       "      <td>8.0</td>\n",
       "      <td>UPI</td>\n",
       "      <td>Male</td>\n",
       "      <td>3.000000</td>\n",
       "      <td>4</td>\n",
       "      <td>...</td>\n",
       "      <td>15.0</td>\n",
       "      <td>0.0</td>\n",
       "      <td>1.0</td>\n",
       "      <td>0.0</td>\n",
       "      <td>120.90</td>\n",
       "      <td>Churned</td>\n",
       "      <td>1 year</td>\n",
       "      <td>NaN</td>\n",
       "      <td>CloseDistance</td>\n",
       "      <td>Yes</td>\n",
       "    </tr>\n",
       "    <tr>\n",
       "      <th>2</th>\n",
       "      <td>50003</td>\n",
       "      <td>1</td>\n",
       "      <td>10.189899</td>\n",
       "      <td>Phone</td>\n",
       "      <td>1</td>\n",
       "      <td>30.0</td>\n",
       "      <td>Debit Card</td>\n",
       "      <td>Male</td>\n",
       "      <td>2.000000</td>\n",
       "      <td>4</td>\n",
       "      <td>...</td>\n",
       "      <td>14.0</td>\n",
       "      <td>0.0</td>\n",
       "      <td>1.0</td>\n",
       "      <td>3.0</td>\n",
       "      <td>120.28</td>\n",
       "      <td>Churned</td>\n",
       "      <td>1 year</td>\n",
       "      <td>NaN</td>\n",
       "      <td>ModerateDistance</td>\n",
       "      <td>Yes</td>\n",
       "    </tr>\n",
       "    <tr>\n",
       "      <th>3</th>\n",
       "      <td>50004</td>\n",
       "      <td>1</td>\n",
       "      <td>0.000000</td>\n",
       "      <td>Phone</td>\n",
       "      <td>3</td>\n",
       "      <td>15.0</td>\n",
       "      <td>Debit Card</td>\n",
       "      <td>Male</td>\n",
       "      <td>2.000000</td>\n",
       "      <td>4</td>\n",
       "      <td>...</td>\n",
       "      <td>23.0</td>\n",
       "      <td>0.0</td>\n",
       "      <td>1.0</td>\n",
       "      <td>3.0</td>\n",
       "      <td>134.07</td>\n",
       "      <td>Churned</td>\n",
       "      <td>0-6 months</td>\n",
       "      <td>NaN</td>\n",
       "      <td>CloseDistance</td>\n",
       "      <td>No</td>\n",
       "    </tr>\n",
       "    <tr>\n",
       "      <th>4</th>\n",
       "      <td>50005</td>\n",
       "      <td>1</td>\n",
       "      <td>0.000000</td>\n",
       "      <td>Phone</td>\n",
       "      <td>1</td>\n",
       "      <td>12.0</td>\n",
       "      <td>Credit Card</td>\n",
       "      <td>Male</td>\n",
       "      <td>2.931535</td>\n",
       "      <td>3</td>\n",
       "      <td>...</td>\n",
       "      <td>11.0</td>\n",
       "      <td>1.0</td>\n",
       "      <td>1.0</td>\n",
       "      <td>3.0</td>\n",
       "      <td>129.60</td>\n",
       "      <td>Churned</td>\n",
       "      <td>0-6 months</td>\n",
       "      <td>NaN</td>\n",
       "      <td>CloseDistance</td>\n",
       "      <td>No</td>\n",
       "    </tr>\n",
       "  </tbody>\n",
       "</table>\n",
       "<p>5 rows × 25 columns</p>\n",
       "</div>"
      ],
      "text/plain": [
       "   CustomerID  Churn     Tenure PreferredLoginDevice  CityTier  \\\n",
       "0       50001      1   4.000000                Phone         3   \n",
       "1       50002      1  10.189899                Phone         1   \n",
       "2       50003      1  10.189899                Phone         1   \n",
       "3       50004      1   0.000000                Phone         3   \n",
       "4       50005      1   0.000000                Phone         1   \n",
       "\n",
       "   WarehouseToHome PreferredPaymentMode  Gender  HourSpendOnApp  \\\n",
       "0              6.0           Debit Card  Female        3.000000   \n",
       "1              8.0                  UPI    Male        3.000000   \n",
       "2             30.0           Debit Card    Male        2.000000   \n",
       "3             15.0           Debit Card    Male        2.000000   \n",
       "4             12.0          Credit Card    Male        2.931535   \n",
       "\n",
       "   NumberOfDeviceRegistered  ... OrderAmountHikeFromlastYear  CouponUsed  \\\n",
       "0                         3  ...                        11.0         1.0   \n",
       "1                         4  ...                        15.0         0.0   \n",
       "2                         4  ...                        14.0         0.0   \n",
       "3                         4  ...                        23.0         0.0   \n",
       "4                         3  ...                        11.0         1.0   \n",
       "\n",
       "  OrderCount  DaySinceLastOrder  CashbackAmount  Churned_Status  Tenure_Range  \\\n",
       "0        1.0                5.0          159.93         Churned    0-6 months   \n",
       "1        1.0                0.0          120.90         Churned        1 year   \n",
       "2        1.0                3.0          120.28         Churned        1 year   \n",
       "3        1.0                3.0          134.07         Churned    0-6 months   \n",
       "4        1.0                3.0          129.60         Churned    0-6 months   \n",
       "\n",
       "   z_score  DistanceCategory  ComplainRecieved  \n",
       "0      NaN     CloseDistance               Yes  \n",
       "1      NaN     CloseDistance               Yes  \n",
       "2      NaN  ModerateDistance               Yes  \n",
       "3      NaN     CloseDistance                No  \n",
       "4      NaN     CloseDistance                No  \n",
       "\n",
       "[5 rows x 25 columns]"
      ]
     },
     "execution_count": 37,
     "metadata": {},
     "output_type": "execute_result"
    }
   ],
   "source": [
    "new_df.head()"
   ]
  },
  {
   "cell_type": "markdown",
   "id": "b65b3455-713b-42e4-b57b-fffa04603620",
   "metadata": {},
   "source": [
    "## Data Visualization"
   ]
  },
  {
   "cell_type": "markdown",
   "id": "a18b7be1-737d-4d33-98b4-6e970676f4d2",
   "metadata": {},
   "source": [
    "##### 1]. What is the churn rate distribution among different payment methods used by Customers"
   ]
  },
  {
   "cell_type": "code",
   "execution_count": 38,
   "id": "3c5019f1-9635-4c51-b91a-4e478fbc2ca8",
   "metadata": {},
   "outputs": [
    {
     "name": "stdout",
     "output_type": "stream",
     "text": [
      "  PreferredPaymentMode  TotalChurnCount\n",
      "0     Cash on Delivery              514\n",
      "1          Credit Card             1774\n",
      "2           Debit Card             2314\n",
      "3             E wallet              614\n",
      "4                  UPI              414\n"
     ]
    }
   ],
   "source": [
    "total_churn_count_perCat=new_df.groupby([\"PreferredPaymentMode\"])[\"Churn\"].count().reset_index()\n",
    "total_churn_count_perCat.columns=[\"PreferredPaymentMode\",\"TotalChurnCount\"]\n",
    "print(total_churn_count_perCat)"
   ]
  },
  {
   "cell_type": "code",
   "execution_count": 39,
   "id": "2ed07a5f-4532-485a-87c6-30f7fdd76799",
   "metadata": {
    "scrolled": true
   },
   "outputs": [
    {
     "name": "stdout",
     "output_type": "stream",
     "text": [
      "  PreferredPaymentMode  ChurnCount\n",
      "0     Cash on Delivery         128\n",
      "1          Credit Card         252\n",
      "2           Debit Card         356\n",
      "3             E wallet         140\n",
      "4                  UPI          72\n"
     ]
    }
   ],
   "source": [
    "churn_payment=new_df[new_df[\"Churn\"]==1].groupby([\"PreferredPaymentMode\"])[\"Churn\"].count().reset_index()\n",
    "churn_payment.columns=[\"PreferredPaymentMode\",\"ChurnCount\"]\n",
    "print(churn_payment)"
   ]
  },
  {
   "cell_type": "code",
   "execution_count": 58,
   "id": "83582644-6d48-4f51-a3e3-557d727537d7",
   "metadata": {},
   "outputs": [
    {
     "data": {
      "image/png": "[encoded data removed]",
      "text/plain": [
       "<Figure size 640x480 with 1 Axes>"
      ]
     },
     "metadata": {},
     "output_type": "display_data"
    }
   ],
   "source": [
    "sns.barplot(data=churn_payment,x=\"PreferredPaymentMode\",y=\"ChurnCount\")\n",
    "plt.title(\"PreferredPaymentMode Vs ChurnCount\")\n",
    "plt.show()"
   ]
  },
  {
   "cell_type": "markdown",
   "id": "f905e381-95d9-4e8c-ada0-e0d503cfeb64",
   "metadata": {},
   "source": [
    "Insight 1-> \n",
    "COD->25% Churn Rate\n",
    ",CC->14% Churn Rate\n",
    ",DC->15% Churn Rate\n",
    ",E-Wallet-> 23% Churn Rate\n",
    ",UPI->17% Churn Rate\n",
    "\n",
    "Hence the COD and E wallet payment methods have high churn rate"
   ]
  },
  {
   "cell_type": "markdown",
   "id": "8e2d7e35-5ca6-4c52-a7e2-b6e5b7d8deb2",
   "metadata": {},
   "source": [
    "##### 2]. How does the churn rate vary based on the preferred login device of customer"
   ]
  },
  {
   "cell_type": "code",
   "execution_count": 41,
   "id": "3f4d95d9-14d1-4424-b22a-60acef7627e4",
   "metadata": {},
   "outputs": [
    {
     "name": "stdout",
     "output_type": "stream",
     "text": [
      "  PreferredLoginDevice  TotalLogins\n",
      "0             Computer         1634\n",
      "1                Phone         3996\n"
     ]
    }
   ],
   "source": [
    "total_churn_preferredlogin=new_df.groupby(\"PreferredLoginDevice\")[\"Churn\"].count().reset_index()\n",
    "total_churn_preferredlogin.columns=[\"PreferredLoginDevice\",\"TotalLogins\"]\n",
    "print(total_churn_preferredlogin)"
   ]
  },
  {
   "cell_type": "code",
   "execution_count": 42,
   "id": "71663669-df52-4bca-aaa8-78c02bc71d20",
   "metadata": {},
   "outputs": [
    {
     "name": "stdout",
     "output_type": "stream",
     "text": [
      "  PreferredLogin  Churn\n",
      "0       Computer    324\n",
      "1          Phone    624\n"
     ]
    }
   ],
   "source": [
    "churn_preferred_login=new_df[new_df[\"Churn\"]==1].groupby(\"PreferredLoginDevice\")[\"Churn\"].count().reset_index()\n",
    "churn_preferred_login.columns=[\"PreferredLogin\",\"Churn\"]\n",
    "print(churn_preferred_login)"
   ]
  },
  {
   "cell_type": "code",
   "execution_count": 59,
   "id": "e9451966-261a-4c49-a373-aee3bf1f2d0c",
   "metadata": {},
   "outputs": [
    {
     "data": {
      "image/png": "[encoded data removed]",
      "text/plain": [
       "<Figure size 640x480 with 1 Axes>"
      ]
     },
     "metadata": {},
     "output_type": "display_data"
    }
   ],
   "source": [
    "sns.barplot(data=churn_preferred_login,x=\"PreferredLogin\",y=\"Churn\")\n",
    "plt.title(\"PreferredLogin Vs ChurnCount\")\n",
    "plt.show()"
   ]
  },
  {
   "cell_type": "markdown",
   "id": "37691a4d-cca6-49f3-85d8-c48ce1e03a2f",
   "metadata": {},
   "source": [
    "Insight 2-> \n",
    "\n",
    "Computers Log-in->20% Churn Rate\n",
    "\n",
    "Phone->15% Churn Rate\n",
    "\n",
    "Hence Computer Log in Users are high churners as compared to phone users"
   ]
  },
  {
   "cell_type": "markdown",
   "id": "5bc65d22-c65e-4b4b-85fc-7edf2620202d",
   "metadata": {},
   "source": [
    "##### 3].Is there Correlation between Churn and Tenure"
   ]
  },
  {
   "cell_type": "code",
   "execution_count": 44,
   "id": "fd426cfc-4dac-4b70-98f6-1bfa6fae7b7b",
   "metadata": {},
   "outputs": [
    {
     "name": "stdout",
     "output_type": "stream",
     "text": [
      "       Tenure_Range  TotalChurn\n",
      "0        0-6 months        1967\n",
      "1            1 year        1585\n",
      "2            2 year        1574\n",
      "3  more than 2 year         504\n"
     ]
    }
   ],
   "source": [
    "churn_tenure=new_df.groupby(\"Tenure_Range\",observed=False)[\"Churn\"].count().reset_index()\n",
    "churn_tenure.columns=[\"Tenure_Range\",\"TotalChurn\"]\n",
    "print(churn_tenure)"
   ]
  },
  {
   "cell_type": "code",
   "execution_count": 45,
   "id": "f8c6ad53-4c39-45bc-920d-835829b5c6b6",
   "metadata": {},
   "outputs": [
    {
     "name": "stdout",
     "output_type": "stream",
     "text": [
      "       Tenure_Range  Churn\n",
      "0        0-6 months    689\n",
      "1            1 year    157\n",
      "2            2 year    102\n",
      "3  more than 2 year      0\n"
     ]
    }
   ],
   "source": [
    "churn_tenure=new_df[new_df[\"Churn\"]==1].groupby(\"Tenure_Range\",observed=False)[\"Churn\"].count().reset_index()\n",
    "churn_tenure.columns=[\"Tenure_Range\",\"Churn\"]\n",
    "print(churn_tenure)"
   ]
  },
  {
   "cell_type": "markdown",
   "id": "8088c689-b713-4c55-bc43-29e330531c1f",
   "metadata": {},
   "source": [
    "Insight 3-> Customers with tenure of 0-6 months have high churning rate, the churning rate decreases as the tenure increases and is 0.0% for tenure above 2 years"
   ]
  },
  {
   "cell_type": "markdown",
   "id": "f8b8a837-0144-456e-b01f-551d367b252b",
   "metadata": {},
   "source": [
    "##### 4].What is the churn rate pattern across different city tiers?"
   ]
  },
  {
   "cell_type": "code",
   "execution_count": 46,
   "id": "f918bf43-37ef-4be4-b8a1-8f00e20294f5",
   "metadata": {},
   "outputs": [
    {
     "data": {
      "text/html": [
       "<div>\n",
       "<style scoped>\n",
       "    .dataframe tbody tr th:only-of-type {\n",
       "        vertical-align: middle;\n",
       "    }\n",
       "\n",
       "    .dataframe tbody tr th {\n",
       "        vertical-align: top;\n",
       "    }\n",
       "\n",
       "    .dataframe thead th {\n",
       "        text-align: right;\n",
       "    }\n",
       "</style>\n",
       "<table border=\"1\" class=\"dataframe\">\n",
       "  <thead>\n",
       "    <tr style=\"text-align: right;\">\n",
       "      <th></th>\n",
       "      <th>CustomerID</th>\n",
       "      <th>Churn</th>\n",
       "      <th>Tenure</th>\n",
       "      <th>PreferredLoginDevice</th>\n",
       "      <th>CityTier</th>\n",
       "      <th>WarehouseToHome</th>\n",
       "      <th>PreferredPaymentMode</th>\n",
       "      <th>Gender</th>\n",
       "      <th>HourSpendOnApp</th>\n",
       "      <th>NumberOfDeviceRegistered</th>\n",
       "      <th>...</th>\n",
       "      <th>OrderAmountHikeFromlastYear</th>\n",
       "      <th>CouponUsed</th>\n",
       "      <th>OrderCount</th>\n",
       "      <th>DaySinceLastOrder</th>\n",
       "      <th>CashbackAmount</th>\n",
       "      <th>Churned_Status</th>\n",
       "      <th>Tenure_Range</th>\n",
       "      <th>z_score</th>\n",
       "      <th>DistanceCategory</th>\n",
       "      <th>ComplainRecieved</th>\n",
       "    </tr>\n",
       "  </thead>\n",
       "  <tbody>\n",
       "    <tr>\n",
       "      <th>0</th>\n",
       "      <td>50001</td>\n",
       "      <td>1</td>\n",
       "      <td>4.000000</td>\n",
       "      <td>Phone</td>\n",
       "      <td>3</td>\n",
       "      <td>6.0</td>\n",
       "      <td>Debit Card</td>\n",
       "      <td>Female</td>\n",
       "      <td>3.000000</td>\n",
       "      <td>3</td>\n",
       "      <td>...</td>\n",
       "      <td>11.0</td>\n",
       "      <td>1.0</td>\n",
       "      <td>1.0</td>\n",
       "      <td>5.0</td>\n",
       "      <td>159.93</td>\n",
       "      <td>Churned</td>\n",
       "      <td>0-6 months</td>\n",
       "      <td>NaN</td>\n",
       "      <td>CloseDistance</td>\n",
       "      <td>Yes</td>\n",
       "    </tr>\n",
       "    <tr>\n",
       "      <th>1</th>\n",
       "      <td>50002</td>\n",
       "      <td>1</td>\n",
       "      <td>10.189899</td>\n",
       "      <td>Phone</td>\n",
       "      <td>1</td>\n",
       "      <td>8.0</td>\n",
       "      <td>UPI</td>\n",
       "      <td>Male</td>\n",
       "      <td>3.000000</td>\n",
       "      <td>4</td>\n",
       "      <td>...</td>\n",
       "      <td>15.0</td>\n",
       "      <td>0.0</td>\n",
       "      <td>1.0</td>\n",
       "      <td>0.0</td>\n",
       "      <td>120.90</td>\n",
       "      <td>Churned</td>\n",
       "      <td>1 year</td>\n",
       "      <td>NaN</td>\n",
       "      <td>CloseDistance</td>\n",
       "      <td>Yes</td>\n",
       "    </tr>\n",
       "    <tr>\n",
       "      <th>2</th>\n",
       "      <td>50003</td>\n",
       "      <td>1</td>\n",
       "      <td>10.189899</td>\n",
       "      <td>Phone</td>\n",
       "      <td>1</td>\n",
       "      <td>30.0</td>\n",
       "      <td>Debit Card</td>\n",
       "      <td>Male</td>\n",
       "      <td>2.000000</td>\n",
       "      <td>4</td>\n",
       "      <td>...</td>\n",
       "      <td>14.0</td>\n",
       "      <td>0.0</td>\n",
       "      <td>1.0</td>\n",
       "      <td>3.0</td>\n",
       "      <td>120.28</td>\n",
       "      <td>Churned</td>\n",
       "      <td>1 year</td>\n",
       "      <td>NaN</td>\n",
       "      <td>ModerateDistance</td>\n",
       "      <td>Yes</td>\n",
       "    </tr>\n",
       "    <tr>\n",
       "      <th>3</th>\n",
       "      <td>50004</td>\n",
       "      <td>1</td>\n",
       "      <td>0.000000</td>\n",
       "      <td>Phone</td>\n",
       "      <td>3</td>\n",
       "      <td>15.0</td>\n",
       "      <td>Debit Card</td>\n",
       "      <td>Male</td>\n",
       "      <td>2.000000</td>\n",
       "      <td>4</td>\n",
       "      <td>...</td>\n",
       "      <td>23.0</td>\n",
       "      <td>0.0</td>\n",
       "      <td>1.0</td>\n",
       "      <td>3.0</td>\n",
       "      <td>134.07</td>\n",
       "      <td>Churned</td>\n",
       "      <td>0-6 months</td>\n",
       "      <td>NaN</td>\n",
       "      <td>CloseDistance</td>\n",
       "      <td>No</td>\n",
       "    </tr>\n",
       "    <tr>\n",
       "      <th>4</th>\n",
       "      <td>50005</td>\n",
       "      <td>1</td>\n",
       "      <td>0.000000</td>\n",
       "      <td>Phone</td>\n",
       "      <td>1</td>\n",
       "      <td>12.0</td>\n",
       "      <td>Credit Card</td>\n",
       "      <td>Male</td>\n",
       "      <td>2.931535</td>\n",
       "      <td>3</td>\n",
       "      <td>...</td>\n",
       "      <td>11.0</td>\n",
       "      <td>1.0</td>\n",
       "      <td>1.0</td>\n",
       "      <td>3.0</td>\n",
       "      <td>129.60</td>\n",
       "      <td>Churned</td>\n",
       "      <td>0-6 months</td>\n",
       "      <td>NaN</td>\n",
       "      <td>CloseDistance</td>\n",
       "      <td>No</td>\n",
       "    </tr>\n",
       "  </tbody>\n",
       "</table>\n",
       "<p>5 rows × 25 columns</p>\n",
       "</div>"
      ],
      "text/plain": [
       "   CustomerID  Churn     Tenure PreferredLoginDevice  CityTier  \\\n",
       "0       50001      1   4.000000                Phone         3   \n",
       "1       50002      1  10.189899                Phone         1   \n",
       "2       50003      1  10.189899                Phone         1   \n",
       "3       50004      1   0.000000                Phone         3   \n",
       "4       50005      1   0.000000                Phone         1   \n",
       "\n",
       "   WarehouseToHome PreferredPaymentMode  Gender  HourSpendOnApp  \\\n",
       "0              6.0           Debit Card  Female        3.000000   \n",
       "1              8.0                  UPI    Male        3.000000   \n",
       "2             30.0           Debit Card    Male        2.000000   \n",
       "3             15.0           Debit Card    Male        2.000000   \n",
       "4             12.0          Credit Card    Male        2.931535   \n",
       "\n",
       "   NumberOfDeviceRegistered  ... OrderAmountHikeFromlastYear  CouponUsed  \\\n",
       "0                         3  ...                        11.0         1.0   \n",
       "1                         4  ...                        15.0         0.0   \n",
       "2                         4  ...                        14.0         0.0   \n",
       "3                         4  ...                        23.0         0.0   \n",
       "4                         3  ...                        11.0         1.0   \n",
       "\n",
       "  OrderCount  DaySinceLastOrder  CashbackAmount  Churned_Status  Tenure_Range  \\\n",
       "0        1.0                5.0          159.93         Churned    0-6 months   \n",
       "1        1.0                0.0          120.90         Churned        1 year   \n",
       "2        1.0                3.0          120.28         Churned        1 year   \n",
       "3        1.0                3.0          134.07         Churned    0-6 months   \n",
       "4        1.0                3.0          129.60         Churned    0-6 months   \n",
       "\n",
       "   z_score  DistanceCategory  ComplainRecieved  \n",
       "0      NaN     CloseDistance               Yes  \n",
       "1      NaN     CloseDistance               Yes  \n",
       "2      NaN  ModerateDistance               Yes  \n",
       "3      NaN     CloseDistance                No  \n",
       "4      NaN     CloseDistance                No  \n",
       "\n",
       "[5 rows x 25 columns]"
      ]
     },
     "execution_count": 46,
     "metadata": {},
     "output_type": "execute_result"
    }
   ],
   "source": [
    "new_df.head()"
   ]
  },
  {
   "cell_type": "code",
   "execution_count": 47,
   "id": "48881b82-cbe3-45a5-858a-e8c71513107e",
   "metadata": {},
   "outputs": [
    {
     "name": "stdout",
     "output_type": "stream",
     "text": [
      "   CityTier  TotalChurn\n",
      "0         1        3666\n",
      "1         2         242\n",
      "2         3        1722\n"
     ]
    }
   ],
   "source": [
    "churn_city=new_df.groupby(\"CityTier\")[\"Churn\"].count().reset_index()\n",
    "churn_city.columns=[\"CityTier\",\"TotalChurn\"]\n",
    "print(churn_city)"
   ]
  },
  {
   "cell_type": "code",
   "execution_count": 48,
   "id": "09b4adf9-88f2-4887-ba7f-999f1aabc4ba",
   "metadata": {},
   "outputs": [
    {
     "name": "stdout",
     "output_type": "stream",
     "text": [
      "   CityTier  Churn\n",
      "0         1    532\n",
      "1         2     48\n",
      "2         3    368\n"
     ]
    }
   ],
   "source": [
    "churn_city=new_df[new_df[\"Churn\"]==1].groupby(\"CityTier\")[\"Churn\"].count().reset_index()\n",
    "churn_city.columns=[\"CityTier\",\"Churn\"]\n",
    "print(churn_city)"
   ]
  },
  {
   "cell_type": "markdown",
   "id": "b4e2ef15-c278-4e4d-b492-eb9d8e161438",
   "metadata": {},
   "source": [
    "Insight 4->\n",
    "Tier 1 city-> 14% churn rate\n",
    "Tier 2 city-> 20% churn rate\n",
    "Tier 3 city-> 21% churn rate\n",
    "\n",
    "Tier 2 & 3 cities are more likely to churn "
   ]
  },
  {
   "cell_type": "markdown",
   "id": "a9d42ee8-fe1c-438b-8803-bc95f368e8a7",
   "metadata": {},
   "source": [
    "##### 5]. How does the number of devices used by customers relate to their churn rate?"
   ]
  },
  {
   "cell_type": "code",
   "execution_count": 49,
   "id": "6bb48b9b-6efc-4bf6-a11f-87339a4e7b41",
   "metadata": {},
   "outputs": [
    {
     "name": "stdout",
     "output_type": "stream",
     "text": [
      "   NumberOfDeviceRegistered  TotalChurn\n",
      "0                         1         235\n",
      "1                         2         276\n",
      "2                         3        1699\n",
      "3                         4        2377\n",
      "4                         5         881\n",
      "5                         6         162\n"
     ]
    }
   ],
   "source": [
    "no_device_churn=new_df.groupby(\"NumberOfDeviceRegistered\")[\"Churn\"].count().reset_index()\n",
    "no_device_churn.columns=[\"NumberOfDeviceRegistered\",\"TotalChurn\"]\n",
    "print(no_device_churn)"
   ]
  },
  {
   "cell_type": "code",
   "execution_count": 50,
   "id": "6cb03a02-a750-4424-a3a2-26e906215b3f",
   "metadata": {},
   "outputs": [
    {
     "name": "stdout",
     "output_type": "stream",
     "text": [
      "   NumberOfDeviceRegistered  Churn\n",
      "0                         1     22\n",
      "1                         2     26\n",
      "2                         3    254\n",
      "3                         4    392\n",
      "4                         5    198\n",
      "5                         6     56\n"
     ]
    }
   ],
   "source": [
    "no_device_churn=new_df[new_df[\"Churn\"]==1].groupby(\"NumberOfDeviceRegistered\")[\"Churn\"].count().reset_index()\n",
    "no_device_churn.columns=[\"NumberOfDeviceRegistered\",\"Churn\"]\n",
    "print(no_device_churn)"
   ]
  },
  {
   "cell_type": "markdown",
   "id": "0c989c8e-6301-4e8c-8e4a-920c32674884",
   "metadata": {},
   "source": [
    "Insight 5-> The Users with 5 & 6 number of devices registered are found more likely to be churned"
   ]
  },
  {
   "cell_type": "markdown",
   "id": "84d3ec9e-1cdb-456e-ba84-0f59edf3d090",
   "metadata": {},
   "source": [
    "##### 6]. What is the impact of the warehouse-to-home delivery option on the churn rate?"
   ]
  },
  {
   "cell_type": "code",
   "execution_count": 51,
   "id": "e52c86d2-67c2-4c35-970d-2dab0264bee8",
   "metadata": {},
   "outputs": [
    {
     "name": "stdout",
     "output_type": "stream",
     "text": [
      "    DistanceCategory  TotalChurn\n",
      "0  VeryCloseDistance           8\n",
      "1      CloseDistance        3251\n",
      "2   ModerateDistance        1651\n",
      "3        FarDistance         469\n"
     ]
    }
   ],
   "source": [
    "distance_churn=new_df.groupby(\"DistanceCategory\",observed=False)[\"Churn\"].count().reset_index()\n",
    "distance_churn.columns=[\"DistanceCategory\",\"TotalChurn\"]\n",
    "print(distance_churn)"
   ]
  },
  {
   "cell_type": "code",
   "execution_count": 52,
   "id": "bc8572ba-5b31-4b66-afd2-a940c6ee1f54",
   "metadata": {},
   "outputs": [
    {
     "name": "stdout",
     "output_type": "stream",
     "text": [
      "    DistanceCategory  Churn\n",
      "0  VeryCloseDistance      1\n",
      "1      CloseDistance    449\n",
      "2   ModerateDistance    316\n",
      "3        FarDistance     98\n"
     ]
    }
   ],
   "source": [
    "distance_churn=new_df[new_df[\"Churn\"]==1].groupby(\"DistanceCategory\",observed=False)[\"Churn\"].count().reset_index()\n",
    "distance_churn.columns=[\"DistanceCategory\",\"Churn\"]\n",
    "print(distance_churn)"
   ]
  },
  {
   "cell_type": "markdown",
   "id": "888bb610-2cd0-4f3c-a4c7-a0d07da22f07",
   "metadata": {},
   "source": [
    "Insight 6-> The Customers with Moderate and Far Distance delivery have higher churn rates . Showing that cusomers facing inconvience while recieving their order"
   ]
  },
  {
   "cell_type": "markdown",
   "id": "4016a0f9-8690-4035-80b1-e27ebbde611e",
   "metadata": {},
   "source": [
    "##### 7]. Is there a relationship between customer satisfaction scores and churn rates?"
   ]
  },
  {
   "cell_type": "code",
   "execution_count": 53,
   "id": "6d088955-efb1-4ac1-b60a-d7d63fe27f0d",
   "metadata": {},
   "outputs": [
    {
     "name": "stdout",
     "output_type": "stream",
     "text": [
      "<class 'pandas.core.frame.DataFrame'>\n",
      "RangeIndex: 5630 entries, 0 to 5629\n",
      "Data columns (total 25 columns):\n",
      " #   Column                       Non-Null Count  Dtype   \n",
      "---  ------                       --------------  -----   \n",
      " 0   CustomerID                   5630 non-null   int64   \n",
      " 1   Churn                        5630 non-null   int64   \n",
      " 2   Tenure                       5630 non-null   float64 \n",
      " 3   PreferredLoginDevice         5630 non-null   object  \n",
      " 4   CityTier                     5630 non-null   int64   \n",
      " 5   WarehouseToHome              5379 non-null   float64 \n",
      " 6   PreferredPaymentMode         5630 non-null   object  \n",
      " 7   Gender                       5630 non-null   object  \n",
      " 8   HourSpendOnApp               5630 non-null   float64 \n",
      " 9   NumberOfDeviceRegistered     5630 non-null   int64   \n",
      " 10  PreferedOrderCat             5630 non-null   object  \n",
      " 11  SatisfactionScore            5630 non-null   int64   \n",
      " 12  MaritalStatus                5630 non-null   object  \n",
      " 13  NumberOfAddress              5630 non-null   int64   \n",
      " 14  Complain                     5630 non-null   int64   \n",
      " 15  OrderAmountHikeFromlastYear  5365 non-null   float64 \n",
      " 16  CouponUsed                   5374 non-null   float64 \n",
      " 17  OrderCount                   5372 non-null   float64 \n",
      " 18  DaySinceLastOrder            5323 non-null   float64 \n",
      " 19  CashbackAmount               5630 non-null   float64 \n",
      " 20  Churned_Status               5630 non-null   object  \n",
      " 21  Tenure_Range                 5630 non-null   category\n",
      " 22  z_score                      0 non-null      float64 \n",
      " 23  DistanceCategory             5379 non-null   category\n",
      " 24  ComplainRecieved             5630 non-null   object  \n",
      "dtypes: category(2), float64(9), int64(7), object(7)\n",
      "memory usage: 1023.2+ KB\n"
     ]
    }
   ],
   "source": [
    "new_df.info()"
   ]
  },
  {
   "cell_type": "code",
   "execution_count": 54,
   "id": "f241f59b-aa13-4f25-94ed-3b97523ec388",
   "metadata": {},
   "outputs": [
    {
     "name": "stdout",
     "output_type": "stream",
     "text": [
      "   SatisfactionScore  TotalChurn\n",
      "0                  1        1164\n",
      "1                  2         586\n",
      "2                  3        1698\n",
      "3                  4        1074\n",
      "4                  5        1108\n"
     ]
    }
   ],
   "source": [
    "churn_SatisfactionScore=new_df.groupby(\"SatisfactionScore\")[\"Churn\"].count().reset_index()\n",
    "churn_SatisfactionScore.columns=[\"SatisfactionScore\",\"TotalChurn\"]\n",
    "print(churn_SatisfactionScore)"
   ]
  },
  {
   "cell_type": "code",
   "execution_count": 55,
   "id": "b9744311-7020-4e1e-98ff-ef22f7761098",
   "metadata": {},
   "outputs": [
    {
     "name": "stdout",
     "output_type": "stream",
     "text": [
      "   SatisfactionScore  Churn\n",
      "0                  1    134\n",
      "1                  2     74\n",
      "2                  3    292\n",
      "3                  4    184\n",
      "4                  5    264\n"
     ]
    }
   ],
   "source": [
    "churn_SatisfactionScore=new_df[new_df[\"Churn\"]==1].groupby(\"SatisfactionScore\")[\"Churn\"].count().reset_index()\n",
    "churn_SatisfactionScore.columns=[\"SatisfactionScore\",\"Churn\"]\n",
    "print(churn_SatisfactionScore)"
   ]
  },
  {
   "cell_type": "markdown",
   "id": "fd3f0f2e-86c0-4b2f-8069-c5892bdb8568",
   "metadata": {},
   "source": [
    "Insight 7-> The churn rates increases with lower satisfactory scores\n"
   ]
  },
  {
   "cell_type": "markdown",
   "id": "6d99cdb1-5334-4919-9cc7-7253090788df",
   "metadata": {},
   "source": [
    "##### 8]. How does the churn rate differ for customers based on their preferred order categories?"
   ]
  },
  {
   "cell_type": "code",
   "execution_count": 56,
   "id": "63524547-fd97-4ede-8cf3-4b48c3cd905d",
   "metadata": {},
   "outputs": [
    {
     "name": "stdout",
     "output_type": "stream",
     "text": [
      "     PreferedOrderCat  TotalChurn\n",
      "0             Fashion         826\n",
      "1             Grocery         410\n",
      "2  Laptop & Accessory        2050\n",
      "3              Mobile         809\n",
      "4              Others         264\n",
      "5               Phone        1271\n"
     ]
    }
   ],
   "source": [
    "churn_PreferedOrderCat=new_df.groupby(\"PreferedOrderCat\")[\"Churn\"].count().reset_index()\n",
    "churn_PreferedOrderCat.columns=[\"PreferedOrderCat\",\"TotalChurn\"]\n",
    "print(churn_PreferedOrderCat)"
   ]
  },
  {
   "cell_type": "code",
   "execution_count": 57,
   "id": "da3a18a8-e9ed-4c53-8f61-761a13c8b11d",
   "metadata": {},
   "outputs": [
    {
     "name": "stdout",
     "output_type": "stream",
     "text": [
      "     PreferedOrderCat  Churn\n",
      "0             Fashion    128\n",
      "1             Grocery     20\n",
      "2  Laptop & Accessory    210\n",
      "3              Mobile    220\n",
      "4              Others     20\n",
      "5               Phone    350\n"
     ]
    }
   ],
   "source": [
    "churn_PreferedOrderCat=new_df[new_df[\"Churn\"]==1].groupby(\"PreferedOrderCat\")[\"Churn\"].count().reset_index()\n",
    "churn_PreferedOrderCat.columns=[\"PreferedOrderCat\",\"Churn\"]\n",
    "print(churn_PreferedOrderCat)"
   ]
  },
  {
   "cell_type": "markdown",
   "id": "7f1ff70c-358d-4ffa-8e19-841b42b9e897",
   "metadata": {},
   "source": [
    "Insight 8-> Customers who love shopping Mobile Phones are supposed to be high churnner as they might be facing some dissatisfaction.\n",
    "The Grocery Customers seems to be loyal and shows low churn rate"
   ]
  },
  {
   "cell_type": "code",
   "execution_count": null,
   "id": "585a98b6-5741-47d5-a624-1350dbbfc605",
   "metadata": {},
   "outputs": [],
   "source": []
  }
 ],
 "metadata": {
  "kernelspec": {
   "display_name": "Python 3 (ipykernel)",
   "language": "python",
   "name": "python3"
  },
  "language_info": {
   "codemirror_mode": {
    "name": "ipython",
    "version": 3
   },
   "file_extension": ".py",
   "mimetype": "text/x-python",
   "name": "python",
   "nbconvert_exporter": "python",
   "pygments_lexer": "ipython3",
   "version": "3.13.5"
  }
 },
 "nbformat": 4,
 "nbformat_minor": 5
}
